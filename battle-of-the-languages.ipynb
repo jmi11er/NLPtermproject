{
 "cells": [
  {
   "cell_type": "markdown",
   "metadata": {},
   "source": [
    "# **Battle of the Languages**\n",
    "here is our code, blah blah blah, we can write more stuff here later\n",
    "please feel free to play with the groupings and cells, I just did some initial stuff I thought  might be helpful, but it might need to be broken up more"
   ]
  },
  {
   "cell_type": "markdown",
   "metadata": {},
   "source": [
    "Importing the Data from the various databases:\n",
    "\n",
    "https://github.com/festvox/datasets-CMU_Wilderness One of the ones Emily recommended, has like 700 languages, seems like it was mined from people reading the new testament. has polish, spanish, english, (probably has greek but it's labeled by the language in that language so I was not positive what I was looking for)\n",
    "\n",
    "https://openslr.org/resources.php The other one Emily recommended instead of the UPenn one, had a brief look and seems like it might be more helpful for spanish/english."
   ]
  },
  {
   "cell_type": "code",
   "execution_count": 3,
   "metadata": {},
   "outputs": [],
   "source": [
    "# YOUR FILEPATH HERE\n",
    "# FILEPATH = \"/Users/eviprousanidou/Desktop/BC/Natural Language Programming/NLPTermProject/\" \n",
    "\n",
    "FILEPATH = \"D:\\\\Users\\\\Kamil\\\\Projects\\\\0_Homework\\\\NLPtermproject\""
   ]
  },
  {
   "cell_type": "code",
   "execution_count": 4,
   "metadata": {},
   "outputs": [],
   "source": [
    "import glob\n",
    "import re\n",
    "import parselmouth\n",
    "from parselmouth.praat import call\n",
    "import numpy as np\n",
    "\n",
    "from os.path import join\n",
    "\n",
    "\n",
    "import parselmouth, matplotlib.pyplot as plt\n",
    "from collections import Counter\n",
    "from sklearn import metrics\n",
    "from sklearn.model_selection import cross_validate\n",
    "from sklearn.model_selection import cross_val_score\n",
    "from sklearn.utils.multiclass import type_of_target\n",
    "\n",
    "from sklearn.naive_bayes import GaussianNB\n",
    "from sklearn.svm import LinearSVC\n",
    "from sklearn.neural_network import MLPClassifier\n",
    "from sklearn.tree import DecisionTreeClassifier\n",
    "from sklearn.ensemble import RandomForestClassifier\n",
    "from sklearn.linear_model import LogisticRegression\n",
    "from sklearn.ensemble import AdaBoostClassifier\n",
    "from sklearn.discriminant_analysis import QuadraticDiscriminantAnalysis\n",
    "from sklearn.neighbors import KNeighborsClassifier\n",
    "\n"
   ]
  },
  {
   "cell_type": "markdown",
   "metadata": {},
   "source": [
    "<h1> Get Features"
   ]
  },
  {
   "cell_type": "code",
   "execution_count": 42,
   "metadata": {},
   "outputs": [],
   "source": [
    "def getFeatures(wav_file):\n",
    "    # get duration, mean pitch, mean intensity\n",
    "    sound = parselmouth.Sound(wav_file)\n",
    "    # pitch\n",
    "    pitch = call(sound, \"To Pitch\", 0, 75, 600) \n",
    "    \n",
    "    # new ==============\n",
    "    pitch_stdev = call(pitch, \"Get standard deviation\", 0, 0, \"Hertz\")\n",
    "    \n",
    "    mean_pitch = call(pitch, \"Get mean\", 0, 0, \"Hertz\")\n",
    "    min_pitch = call(pitch, \"Get minimum\", 0, 0, \"Hertz\", \"Parabolic\")\n",
    "    max_pitch = call(pitch, \"Get maximum\", 0, 0, \"Hertz\", \"Parabolic\")\n",
    "    \n",
    "    # intensity\n",
    "    intensity = call(sound, \"To Intensity\", 75, 0, \"yes\")\n",
    "\n",
    "    # new ==============\n",
    "    intensity_stdev = call(intensity, \"Get standard deviation\", 0, 0)\n",
    "    \n",
    "    mean_intensity = call(intensity, \"Get mean\", 0, 0, \"energy\")\n",
    "    min_intensity = call(intensity, \"Get minimum\", 0, 0, \"Parabolic\")\n",
    "    max_intensity = call(intensity, \"Get maximum\", 0, 0, \"Parabolic\")\n",
    "    \n",
    "\n",
    "    duration = call(sound, \"Get total duration\")\n",
    "\n",
    "    # get mean features for vowels and consonants\n",
    "    formant = call(sound, \"To Formant (burg)\", 0, 5, 5500, 0.025, 50)\n",
    "  \n",
    "    #tg_file = re.sub(\"wav\", \"TextGrid\", wav_file)\n",
    "    #textgrid = call(\"Read from file\", tg_file)\n",
    "    #intv = call(textgrid, \"Get number of intervals\", 1)\n",
    "    \n",
    "    # new ==============\n",
    "    # get mfccs\n",
    "    mfccs = call(sound, \"To MFCC\", 12, 0.015, 0.005, 100, 100, 0).to_array()\n",
    "    mfcc_avg = [np.mean(mfccs[i]) for i in range(13)]\n",
    "    \n",
    "    \n",
    "#     vowels = 0\n",
    "#     consonants = 0\n",
    "#     f1_vowels = 0\n",
    "#     dur_vowels = 0\n",
    "    \n",
    "\n",
    "\n",
    "#     for i in range(1, intv):\n",
    "#         phone = call(textgrid, \"Get label of interval\", 1, i)\n",
    "#         # vowels\n",
    "#         if phone == 'sil': continue\n",
    "#         if re.match('[AEIOU]', phone):\n",
    "#             vowels += 1\n",
    "#             vowel_onset = call(textgrid, \"Get starting point\", 1, i)\n",
    "#             vowel_offset = call(textgrid, \"Get end point\", 1, i)\n",
    "#             midpoint = vowel_onset + ((vowel_offset - vowel_onset) / 2)\n",
    "#             f1_vowels += call(formant, \"Get value at time\", 1, midpoint, \"Hertz\", \"Linear\")\n",
    "#             dur_vowels += vowel_offset - vowel_onset\n",
    "    \n",
    "#     f1_vowels = f1_vowels / vowels if vowels > 0 else 0\n",
    "#     dur_vowels = dur_vowels / vowels if vowels > 0 else 0\n",
    "    \n",
    "    \n",
    "\n",
    "    results = [\n",
    "                pitch_stdev,\n",
    "                mean_pitch, \n",
    "                min_pitch,\n",
    "                max_pitch,\n",
    "                intensity_stdev,\n",
    "                mean_intensity, \n",
    "                min_intensity,\n",
    "                max_intensity,\n",
    "                duration,\n",
    "                mfcc_avg,\n",
    "#                 f1_vowels, \n",
    "#                 dur_vowels,\n",
    "            ]\n",
    "   \n",
    "    return results"
   ]
  },
  {
   "cell_type": "markdown",
   "metadata": {},
   "source": [
    "<h1> Read Greek Data\n",
    "    "
   ]
  },
  {
   "cell_type": "code",
   "execution_count": 43,
   "metadata": {},
   "outputs": [
    {
     "name": "stdout",
     "output_type": "stream",
     "text": [
      "100 D:\\Users\\Kamil\\Projects\\0_Homework\\NLPtermproject\\data/Greek\\Paramythi_horis_onoma_0099.wav\n",
      "200 D:\\Users\\Kamil\\Projects\\0_Homework\\NLPtermproject\\data/Greek\\Paramythi_horis_onoma_0199.wav\n",
      "300 D:\\Users\\Kamil\\Projects\\0_Homework\\NLPtermproject\\data/Greek\\Paramythi_horis_onoma_0299.wav\n",
      "400 D:\\Users\\Kamil\\Projects\\0_Homework\\NLPtermproject\\data/Greek\\Paramythi_horis_onoma_0399.wav\n",
      "500 D:\\Users\\Kamil\\Projects\\0_Homework\\NLPtermproject\\data/Greek\\Paramythi_horis_onoma_0499.wav\n",
      "600 D:\\Users\\Kamil\\Projects\\0_Homework\\NLPtermproject\\data/Greek\\Paramythi_horis_onoma_0599.wav\n",
      "700 D:\\Users\\Kamil\\Projects\\0_Homework\\NLPtermproject\\data/Greek\\Paramythi_horis_onoma_0699.wav\n",
      "800 D:\\Users\\Kamil\\Projects\\0_Homework\\NLPtermproject\\data/Greek\\Paramythi_horis_onoma_0799.wav\n",
      "900 D:\\Users\\Kamil\\Projects\\0_Homework\\NLPtermproject\\data/Greek\\Paramythi_horis_onoma_0899.wav\n",
      "1000 D:\\Users\\Kamil\\Projects\\0_Homework\\NLPtermproject\\data/Greek\\Paramythi_horis_onoma_0999.wav\n",
      "1100 D:\\Users\\Kamil\\Projects\\0_Homework\\NLPtermproject\\data/Greek\\Paramythi_horis_onoma_1099.wav\n",
      "1200 D:\\Users\\Kamil\\Projects\\0_Homework\\NLPtermproject\\data/Greek\\Paramythi_horis_onoma_1199.wav\n",
      "1300 D:\\Users\\Kamil\\Projects\\0_Homework\\NLPtermproject\\data/Greek\\Paramythi_horis_onoma_1299.wav\n",
      "1400 D:\\Users\\Kamil\\Projects\\0_Homework\\NLPtermproject\\data/Greek\\Paramythi_horis_onoma_1399.wav\n",
      "1500 D:\\Users\\Kamil\\Projects\\0_Homework\\NLPtermproject\\data/Greek\\Paramythi_horis_onoma_1499.wav\n",
      "1600 D:\\Users\\Kamil\\Projects\\0_Homework\\NLPtermproject\\data/Greek\\Paramythi_horis_onoma_1599.wav\n",
      "1700 D:\\Users\\Kamil\\Projects\\0_Homework\\NLPtermproject\\data/Greek\\Paramythi_horis_onoma_1699.wav\n",
      "1800 D:\\Users\\Kamil\\Projects\\0_Homework\\NLPtermproject\\data/Greek\\Paramythi_horis_onoma_1799.wav\n"
     ]
    }
   ],
   "source": [
    "counter = 0 \n",
    "\n",
    "greek=[]\n",
    "\n",
    "for wav_file in glob.glob(join(FILEPATH, \"data/Greek/*.wav\")):\n",
    "    \n",
    "    # print progress\n",
    "    counter += 1\n",
    "    if counter % 100 == 0:\n",
    "        print(counter, wav_file)\n",
    "\n",
    "    results = getFeatures(wav_file)\n",
    "    greek.append(results)\n",
    "    \n",
    "#counter is 1800"
   ]
  },
  {
   "cell_type": "markdown",
   "metadata": {},
   "source": [
    "<h1> Read Polish / Czech Data"
   ]
  },
  {
   "cell_type": "code",
   "execution_count": 7,
   "metadata": {},
   "outputs": [],
   "source": [
    "counter = 0 \n",
    "\n",
    "czech=[]\n",
    "\n",
    "for wav_file in glob.glob(join(FILEPATH, \"data/Czech/*.wav\")):\n",
    "    \n",
    "    # print progress\n",
    "    counter += 1\n",
    "    if counter % 100 == 0:\n",
    "        print(counter, wav_file)\n",
    "\n",
    "    results = getFeatures(wav_file)\n",
    "    czech.append(results)"
   ]
  },
  {
   "cell_type": "markdown",
   "metadata": {},
   "source": [
    "<h1> Read Spanish Data"
   ]
  },
  {
   "cell_type": "code",
   "execution_count": 8,
   "metadata": {},
   "outputs": [
    {
     "name": "stdout",
     "output_type": "stream",
     "text": [
      "female\n",
      "100 D:\\Users\\Kamil\\Projects\\0_Homework\\NLPtermproject\\data/Spanish/female\\cof_07508_01762097048.wav\n",
      "200 D:\\Users\\Kamil\\Projects\\0_Homework\\NLPtermproject\\data/Spanish/female\\cof_08421_00971546947.wav\n",
      "300 D:\\Users\\Kamil\\Projects\\0_Homework\\NLPtermproject\\data/Spanish/female\\cof_08784_00373473053.wav\n",
      "400 D:\\Users\\Kamil\\Projects\\0_Homework\\NLPtermproject\\data/Spanish/female\\cof_08784_01746206903.wav\n",
      "500 D:\\Users\\Kamil\\Projects\\0_Homework\\NLPtermproject\\data/Spanish/female\\cof_09334_01022723555.wav\n",
      "600 D:\\Users\\Kamil\\Projects\\0_Homework\\NLPtermproject\\data/Spanish/female\\cof_09697_00209542155.wav\n",
      "700 D:\\Users\\Kamil\\Projects\\0_Homework\\NLPtermproject\\data/Spanish/female\\cof_09697_01693011674.wav\n",
      "male\n",
      "800 D:\\Users\\Kamil\\Projects\\0_Homework\\NLPtermproject\\data/Spanish/male\\com_04310_01906265895.wav\n",
      "900 D:\\Users\\Kamil\\Projects\\0_Homework\\NLPtermproject\\data/Spanish/male\\com_05223_01172869424.wav\n",
      "1000 D:\\Users\\Kamil\\Projects\\0_Homework\\NLPtermproject\\data/Spanish/male\\com_06136_00500501388.wav\n",
      "1100 D:\\Users\\Kamil\\Projects\\0_Homework\\NLPtermproject\\data/Spanish/male\\com_06136_01921202229.wav\n",
      "1200 D:\\Users\\Kamil\\Projects\\0_Homework\\NLPtermproject\\data/Spanish/male\\com_07049_01181164816.wav\n",
      "1300 D:\\Users\\Kamil\\Projects\\0_Homework\\NLPtermproject\\data/Spanish/male\\com_07508_00419243881.wav\n",
      "1400 D:\\Users\\Kamil\\Projects\\0_Homework\\NLPtermproject\\data/Spanish/male\\com_07508_01944220782.wav\n",
      "1500 D:\\Users\\Kamil\\Projects\\0_Homework\\NLPtermproject\\data/Spanish/male\\com_08421_01363205608.wav\n",
      "1600 D:\\Users\\Kamil\\Projects\\0_Homework\\NLPtermproject\\data/Spanish/male\\com_08784_00395187058.wav\n",
      "1700 D:\\Users\\Kamil\\Projects\\0_Homework\\NLPtermproject\\data/Spanish/male\\com_08784_01869094368.wav\n",
      "1800 D:\\Users\\Kamil\\Projects\\0_Homework\\NLPtermproject\\data/Spanish/male\\com_09334_01334654214.wav\n",
      "1900 D:\\Users\\Kamil\\Projects\\0_Homework\\NLPtermproject\\data/Spanish/male\\com_09697_00516520438.wav\n",
      "2000 D:\\Users\\Kamil\\Projects\\0_Homework\\NLPtermproject\\data/Spanish/male\\com_09697_02114500693.wav\n"
     ]
    }
   ],
   "source": [
    "counter = 0 \n",
    "\n",
    "spanish=[]\n",
    "\n",
    "print(\"female\")\n",
    "for wav_file in glob.glob(join(FILEPATH, \"data/Spanish/female/*.wav\")):\n",
    "    \n",
    "    # print progress\n",
    "    counter += 1\n",
    "    if counter % 100 == 0:\n",
    "        print(counter, wav_file)\n",
    "\n",
    "    results = getFeatures(wav_file)\n",
    "    spanish.append(results)\n",
    "#count is 700\n",
    "print(\"male\")\n",
    "for wav_file in glob.glob(join(FILEPATH, \"data/Spanish/male/*.wav\")):\n",
    "    \n",
    "    # print progress\n",
    "    counter += 1\n",
    "    if counter % 100 == 0:\n",
    "        print(counter, wav_file)\n",
    "\n",
    "    results = getFeatures(wav_file)\n",
    "    spanish.append(results)\n",
    "    \n",
    "#count is 2000"
   ]
  },
  {
   "cell_type": "markdown",
   "metadata": {},
   "source": [
    "<h1> Read English Data"
   ]
  },
  {
   "cell_type": "code",
   "execution_count": 9,
   "metadata": {},
   "outputs": [
    {
     "name": "stdout",
     "output_type": "stream",
     "text": [
      "100 D:\\Users\\Kamil\\Projects\\0_Homework\\NLPtermproject\\data/English\\f0005_us_f0005_00153.wav\n",
      "200 D:\\Users\\Kamil\\Projects\\0_Homework\\NLPtermproject\\data/English\\f0005_us_f0005_00254.wav\n",
      "300 D:\\Users\\Kamil\\Projects\\0_Homework\\NLPtermproject\\data/English\\f0005_us_f0005_00354.wav\n",
      "400 D:\\Users\\Kamil\\Projects\\0_Homework\\NLPtermproject\\data/English\\m0001_us_m0001_00014.wav\n",
      "500 D:\\Users\\Kamil\\Projects\\0_Homework\\NLPtermproject\\data/English\\m0001_us_m0001_00114.wav\n",
      "600 D:\\Users\\Kamil\\Projects\\0_Homework\\NLPtermproject\\data/English\\m0001_us_m0001_00214.wav\n",
      "700 D:\\Users\\Kamil\\Projects\\0_Homework\\NLPtermproject\\data/English\\m0001_us_m0001_00314.wav\n",
      "800 D:\\Users\\Kamil\\Projects\\0_Homework\\NLPtermproject\\data/English\\m0002_us_m0002_00086.wav\n",
      "900 D:\\Users\\Kamil\\Projects\\0_Homework\\NLPtermproject\\data/English\\m0002_us_m0002_00186.wav\n",
      "1000 D:\\Users\\Kamil\\Projects\\0_Homework\\NLPtermproject\\data/English\\m0002_us_m0002_00286.wav\n",
      "1100 D:\\Users\\Kamil\\Projects\\0_Homework\\NLPtermproject\\data/English\\m0003_us_m0003_00029.wav\n",
      "1200 D:\\Users\\Kamil\\Projects\\0_Homework\\NLPtermproject\\data/English\\m0003_us_m0003_00129.wav\n",
      "1300 D:\\Users\\Kamil\\Projects\\0_Homework\\NLPtermproject\\data/English\\m0003_us_m0003_00229.wav\n",
      "1400 D:\\Users\\Kamil\\Projects\\0_Homework\\NLPtermproject\\data/English\\m0003_us_m0003_00329.wav\n",
      "1500 D:\\Users\\Kamil\\Projects\\0_Homework\\NLPtermproject\\data/English\\m0004_us_m0004_00077.wav\n",
      "1600 D:\\Users\\Kamil\\Projects\\0_Homework\\NLPtermproject\\data/English\\m0005_us_m0005_00006.wav\n",
      "1700 D:\\Users\\Kamil\\Projects\\0_Homework\\NLPtermproject\\data/English\\m0005_us_m0005_00106.wav\n",
      "1800 D:\\Users\\Kamil\\Projects\\0_Homework\\NLPtermproject\\data/English\\m0005_us_m0005_00206.wav\n",
      "1900 D:\\Users\\Kamil\\Projects\\0_Homework\\NLPtermproject\\data/English\\m0005_us_m0005_00306.wav\n",
      "2000 D:\\Users\\Kamil\\Projects\\0_Homework\\NLPtermproject\\data/English\\m0005_us_m0005_00406.wav\n"
     ]
    }
   ],
   "source": [
    "counter = 0 \n",
    "\n",
    "english=[]\n",
    "\n",
    "for wav_file in glob.glob(join(FILEPATH, \"data/English/*.wav\")):\n",
    "    \n",
    "    # print progress\n",
    "    counter += 1\n",
    "    if counter % 100 == 0:\n",
    "        print(counter, wav_file)\n",
    "\n",
    "    results = getFeatures(wav_file)\n",
    "    english.append(results)\n",
    "    \n",
    "#count is 2000"
   ]
  },
  {
   "cell_type": "code",
   "execution_count": 10,
   "metadata": {},
   "outputs": [],
   "source": [
    "# create class labels: greek = 0, spanish = 1, english = 2, czech = 3\n",
    "greek_labels = np.zeros(len(greek), dtype=int)\n",
    "spanish_labels = np.ones(len(spanish), dtype=int)\n",
    "english_labels = np.full(len(english), int(2.0))\n",
    "czech_labels = np.full(len(czech), int(3.0))\n",
    "\n",
    "# put all features into a single numpy array\n",
    "npdata = np.array(greek + spanish + english + czech)\n",
    "\n",
    "# put all labels into a single numpy array\n",
    "nptarget = np.concatenate([greek_labels, spanish_labels, english_labels, czech_labels])\n"
   ]
  },
  {
   "cell_type": "code",
   "execution_count": 11,
   "metadata": {},
   "outputs": [
    {
     "name": "stdout",
     "output_type": "stream",
     "text": [
      "5889\n",
      "[[ 35.18038192 187.78492121 136.04353833 ...  17.88185354  77.27988631\n",
      "    8.85986395]\n",
      " [ 29.43937302 187.16897262  75.28383705 ...  17.79161378  79.20710494\n",
      "    9.05941043]\n",
      " [ 30.611966   182.225313    74.04474564 ...  17.95564229  76.60140491\n",
      "    9.34875283]\n",
      " ...\n",
      " [ 21.92172982 122.39391129  77.75976781 ...  18.21153     73.20047108\n",
      "    3.2       ]\n",
      " [ 21.09241601 140.79530728 110.44878388 ...  20.74858954  74.06688454\n",
      "    3.32      ]\n",
      " [ 21.10489289 131.21954973  78.4693585  ...  17.44618348  72.89125882\n",
      "    2.32      ]]\n",
      "[0 0 0 ... 2 2 2]\n"
     ]
    }
   ],
   "source": [
    "print(len(npdata))\n",
    "print(npdata)\n",
    "print(nptarget)"
   ]
  },
  {
   "cell_type": "markdown",
   "metadata": {},
   "source": [
    "<h1> Feature Selection\n",
    "    "
   ]
  },
  {
   "cell_type": "markdown",
   "metadata": {},
   "source": [
    "<p> Comment out any features we don't want to include"
   ]
  },
  {
   "cell_type": "code",
   "execution_count": 12,
   "metadata": {},
   "outputs": [
    {
     "name": "stdout",
     "output_type": "stream",
     "text": [
      "(5889, 9)\n"
     ]
    }
   ],
   "source": [
    "selection = [\n",
    "    0, # pitch_stdev\n",
    "    1, # mean_pitch\n",
    "    2, # min_pitch\n",
    "    3, # max_pitch\n",
    "    4, # intensity_stdev\n",
    "    5, # mean_intensity\n",
    "    6, # min_intensity\n",
    "    7, # max_intensity\n",
    "    8, # duration\n",
    "   # 9, # mfcc_avg\n",
    "]\n",
    "\n",
    "npdata = npdata[:, selection]\n",
    "\n",
    "print(npdata.shape)"
   ]
  },
  {
   "cell_type": "markdown",
   "metadata": {},
   "source": [
    "<h1> Scoring Metrics\n",
    "    "
   ]
  },
  {
   "cell_type": "code",
   "execution_count": 33,
   "metadata": {},
   "outputs": [],
   "source": [
    "# scoring_metrics = ['accuracy', 'precision', 'recall', 'f1']\n",
    "scoring_metrics = {'accuracy': metrics.make_scorer( metrics.accuracy_score),\n",
    "                   'precision': metrics.make_scorer( metrics.precision_score, average = 'macro'),\n",
    "                   'recall': metrics.make_scorer( metrics.recall_score, average = 'macro'),\n",
    "                   'f1_macro': metrics.make_scorer( metrics.f1_score, average = 'macro'),\n",
    "                   'f1_weighted': metrics.make_scorer( metrics.f1_score, average = 'weighted')}"
   ]
  },
  {
   "cell_type": "markdown",
   "metadata": {},
   "source": [
    "<h1> Models"
   ]
  },
  {
   "cell_type": "code",
   "execution_count": 34,
   "metadata": {},
   "outputs": [],
   "source": [
    "models = [\n",
    "            GaussianNB(), \n",
    "            MLPClassifier(max_iter=300),\n",
    "            LinearSVC(), \n",
    "            # Feedforward Neural Network\n",
    "            QuadraticDiscriminantAnalysis(),\n",
    "            LogisticRegression(),\n",
    "            RandomForestClassifier(max_depth=4),  # try more max_depth\n",
    "            DecisionTreeClassifier(), \n",
    "            KNeighborsClassifier(n_neighbors=3), # try more number of neighbors\n",
    "            AdaBoostClassifier(n_estimators=100)\n",
    "        ]"
   ]
  },
  {
   "cell_type": "code",
   "execution_count": 35,
   "metadata": {},
   "outputs": [
    {
     "name": "stdout",
     "output_type": "stream",
     "text": [
      "[GaussianNB(), MLPClassifier(max_iter=300), LinearSVC(), QuadraticDiscriminantAnalysis(), LogisticRegression(), RandomForestClassifier(max_depth=4), DecisionTreeClassifier(), KNeighborsClassifier(n_neighbors=3), AdaBoostClassifier(n_estimators=100)]\n",
      "<class 'numpy.ndarray'>\n"
     ]
    }
   ],
   "source": [
    "print(models)\n",
    "\n",
    "print(type(nptarget))"
   ]
  },
  {
   "cell_type": "markdown",
   "metadata": {},
   "source": [
    "<h1> Test each Model\n",
    "    "
   ]
  },
  {
   "cell_type": "markdown",
   "metadata": {},
   "source": [
    "our target is not binary it has 4 unique values (0,1,2,3)\n",
    "    "
   ]
  },
  {
   "cell_type": "code",
   "execution_count": 36,
   "metadata": {},
   "outputs": [
    {
     "name": "stdout",
     "output_type": "stream",
     "text": [
      "\n",
      "GaussianNB\n",
      "\n",
      "test_accuracy \t 0.9\n",
      "test_precision \t 0.9257\n",
      "test_recall \t 0.9026\n",
      "test_f1_macro \t 0.8846\n",
      "test_f1_weighted \t 0.8836\n",
      "\n",
      "MLPClassifier\n",
      "\n",
      "test_accuracy \t 0.8015\n",
      "test_precision \t 0.8468\n",
      "test_recall \t 0.8056\n",
      "test_f1_macro \t 0.7841\n",
      "test_f1_weighted \t 0.7793\n",
      "\n",
      "LinearSVC\n",
      "\n"
     ]
    },
    {
     "name": "stderr",
     "output_type": "stream",
     "text": [
      "C:\\Users\\Kamil\\anaconda3\\lib\\site-packages\\sklearn\\svm\\_base.py:976: ConvergenceWarning: Liblinear failed to converge, increase the number of iterations.\n",
      "  warnings.warn(\"Liblinear failed to converge, increase \"\n",
      "C:\\Users\\Kamil\\anaconda3\\lib\\site-packages\\sklearn\\svm\\_base.py:976: ConvergenceWarning: Liblinear failed to converge, increase the number of iterations.\n",
      "  warnings.warn(\"Liblinear failed to converge, increase \"\n",
      "C:\\Users\\Kamil\\anaconda3\\lib\\site-packages\\sklearn\\svm\\_base.py:976: ConvergenceWarning: Liblinear failed to converge, increase the number of iterations.\n",
      "  warnings.warn(\"Liblinear failed to converge, increase \"\n",
      "C:\\Users\\Kamil\\anaconda3\\lib\\site-packages\\sklearn\\svm\\_base.py:976: ConvergenceWarning: Liblinear failed to converge, increase the number of iterations.\n",
      "  warnings.warn(\"Liblinear failed to converge, increase \"\n",
      "C:\\Users\\Kamil\\anaconda3\\lib\\site-packages\\sklearn\\svm\\_base.py:976: ConvergenceWarning: Liblinear failed to converge, increase the number of iterations.\n",
      "  warnings.warn(\"Liblinear failed to converge, increase \"\n",
      "C:\\Users\\Kamil\\anaconda3\\lib\\site-packages\\sklearn\\linear_model\\_logistic.py:762: ConvergenceWarning: lbfgs failed to converge (status=1):\n",
      "STOP: TOTAL NO. of ITERATIONS REACHED LIMIT.\n",
      "\n",
      "Increase the number of iterations (max_iter) or scale the data as shown in:\n",
      "    https://scikit-learn.org/stable/modules/preprocessing.html\n",
      "Please also refer to the documentation for alternative solver options:\n",
      "    https://scikit-learn.org/stable/modules/linear_model.html#logistic-regression\n",
      "  n_iter_i = _check_optimize_result(\n"
     ]
    },
    {
     "name": "stdout",
     "output_type": "stream",
     "text": [
      "test_accuracy \t 0.7023\n",
      "test_precision \t 0.8161\n",
      "test_recall \t 0.7019\n",
      "test_f1_macro \t 0.6785\n",
      "test_f1_weighted \t 0.6764\n",
      "\n",
      "QuadraticDiscriminantAnalysis\n",
      "\n",
      "test_accuracy \t 0.9036\n",
      "test_precision \t 0.9334\n",
      "test_recall \t 0.9063\n",
      "test_f1_macro \t 0.8869\n",
      "test_f1_weighted \t 0.8843\n",
      "\n",
      "LogisticRegression\n",
      "\n"
     ]
    },
    {
     "name": "stderr",
     "output_type": "stream",
     "text": [
      "C:\\Users\\Kamil\\anaconda3\\lib\\site-packages\\sklearn\\linear_model\\_logistic.py:762: ConvergenceWarning: lbfgs failed to converge (status=1):\n",
      "STOP: TOTAL NO. of ITERATIONS REACHED LIMIT.\n",
      "\n",
      "Increase the number of iterations (max_iter) or scale the data as shown in:\n",
      "    https://scikit-learn.org/stable/modules/preprocessing.html\n",
      "Please also refer to the documentation for alternative solver options:\n",
      "    https://scikit-learn.org/stable/modules/linear_model.html#logistic-regression\n",
      "  n_iter_i = _check_optimize_result(\n",
      "C:\\Users\\Kamil\\anaconda3\\lib\\site-packages\\sklearn\\linear_model\\_logistic.py:762: ConvergenceWarning: lbfgs failed to converge (status=1):\n",
      "STOP: TOTAL NO. of ITERATIONS REACHED LIMIT.\n",
      "\n",
      "Increase the number of iterations (max_iter) or scale the data as shown in:\n",
      "    https://scikit-learn.org/stable/modules/preprocessing.html\n",
      "Please also refer to the documentation for alternative solver options:\n",
      "    https://scikit-learn.org/stable/modules/linear_model.html#logistic-regression\n",
      "  n_iter_i = _check_optimize_result(\n",
      "C:\\Users\\Kamil\\anaconda3\\lib\\site-packages\\sklearn\\linear_model\\_logistic.py:762: ConvergenceWarning: lbfgs failed to converge (status=1):\n",
      "STOP: TOTAL NO. of ITERATIONS REACHED LIMIT.\n",
      "\n",
      "Increase the number of iterations (max_iter) or scale the data as shown in:\n",
      "    https://scikit-learn.org/stable/modules/preprocessing.html\n",
      "Please also refer to the documentation for alternative solver options:\n",
      "    https://scikit-learn.org/stable/modules/linear_model.html#logistic-regression\n",
      "  n_iter_i = _check_optimize_result(\n",
      "C:\\Users\\Kamil\\anaconda3\\lib\\site-packages\\sklearn\\linear_model\\_logistic.py:762: ConvergenceWarning: lbfgs failed to converge (status=1):\n",
      "STOP: TOTAL NO. of ITERATIONS REACHED LIMIT.\n",
      "\n",
      "Increase the number of iterations (max_iter) or scale the data as shown in:\n",
      "    https://scikit-learn.org/stable/modules/preprocessing.html\n",
      "Please also refer to the documentation for alternative solver options:\n",
      "    https://scikit-learn.org/stable/modules/linear_model.html#logistic-regression\n",
      "  n_iter_i = _check_optimize_result(\n"
     ]
    },
    {
     "name": "stdout",
     "output_type": "stream",
     "text": [
      "test_accuracy \t 0.7619\n",
      "test_precision \t 0.7769\n",
      "test_recall \t 0.7666\n",
      "test_f1_macro \t 0.7452\n",
      "test_f1_weighted \t 0.7409\n",
      "\n",
      "RandomForestClassifier\n",
      "\n",
      "test_accuracy \t 0.9005\n",
      "test_precision \t 0.9362\n",
      "test_recall \t 0.9032\n",
      "test_f1_macro \t 0.8849\n",
      "test_f1_weighted \t 0.8842\n",
      "\n",
      "DecisionTreeClassifier\n",
      "\n",
      "test_accuracy \t 0.8918\n",
      "test_precision \t 0.9208\n",
      "test_recall \t 0.8944\n",
      "test_f1_macro \t 0.8738\n",
      "test_f1_weighted \t 0.8727\n",
      "\n",
      "KNeighborsClassifier\n",
      "\n",
      "test_accuracy \t 0.8249\n",
      "test_precision \t 0.8597\n",
      "test_recall \t 0.8281\n",
      "test_f1_macro \t 0.8073\n",
      "test_f1_weighted \t 0.8054\n",
      "\n",
      "AdaBoostClassifier\n",
      "\n",
      "test_accuracy \t 0.9353\n",
      "test_precision \t 0.9416\n",
      "test_recall \t 0.9363\n",
      "test_f1_macro \t 0.9352\n",
      "test_f1_weighted \t 0.9355\n"
     ]
    }
   ],
   "source": [
    "for model in models:\n",
    "\n",
    "    # print model name\n",
    "    model_name = str(type(model))\n",
    "    model_name = model_name[model_name.rfind('.')+1:-2]\n",
    "    print('\\n' + model_name + '\\n')\n",
    "\n",
    "    # train and cross validate with 5 folds\n",
    "    scores = cross_validate(model, npdata, nptarget, scoring=scoring_metrics, cv=5)\n",
    "    for score_name, score_value in scores.items():\n",
    "        if \"test\" in score_name:\n",
    "            print(score_name, \"\\t\", np.round(np.mean(score_value), 4))\n",
    "\n"
   ]
  },
  {
   "cell_type": "code",
   "execution_count": 37,
   "metadata": {},
   "outputs": [
    {
     "ename": "NameError",
     "evalue": "name 'LinearRegression' is not defined",
     "output_type": "error",
     "traceback": [
      "\u001b[1;31m---------------------------------------------------------------------------\u001b[0m",
      "\u001b[1;31mNameError\u001b[0m                                 Traceback (most recent call last)",
      "\u001b[1;32m<ipython-input-37-b1e5642a8bab>\u001b[0m in \u001b[0;36m<module>\u001b[1;34m\u001b[0m\n\u001b[1;32m----> 1\u001b[1;33m \u001b[0mscores\u001b[0m \u001b[1;33m=\u001b[0m \u001b[0mcross_validate\u001b[0m\u001b[1;33m(\u001b[0m\u001b[0mLinearRegression\u001b[0m\u001b[1;33m(\u001b[0m\u001b[0msolver\u001b[0m\u001b[1;33m=\u001b[0m\u001b[1;34m'lbfgs'\u001b[0m\u001b[1;33m)\u001b[0m\u001b[1;33m,\u001b[0m \u001b[0mnpdata\u001b[0m\u001b[1;33m,\u001b[0m \u001b[0mnptarget\u001b[0m\u001b[1;33m,\u001b[0m \u001b[0mscoring\u001b[0m\u001b[1;33m=\u001b[0m\u001b[0mscoring_metrics\u001b[0m\u001b[1;33m,\u001b[0m \u001b[0mcv\u001b[0m\u001b[1;33m=\u001b[0m\u001b[1;36m5\u001b[0m\u001b[1;33m)\u001b[0m\u001b[1;33m\u001b[0m\u001b[1;33m\u001b[0m\u001b[0m\n\u001b[0m\u001b[0;32m      2\u001b[0m \u001b[1;33m\u001b[0m\u001b[0m\n\u001b[0;32m      3\u001b[0m \u001b[1;32mfor\u001b[0m \u001b[0mscore_name\u001b[0m\u001b[1;33m,\u001b[0m \u001b[0mscore_value\u001b[0m \u001b[1;32min\u001b[0m \u001b[0mscores\u001b[0m\u001b[1;33m.\u001b[0m\u001b[0mitems\u001b[0m\u001b[1;33m(\u001b[0m\u001b[1;33m)\u001b[0m\u001b[1;33m:\u001b[0m\u001b[1;33m\u001b[0m\u001b[1;33m\u001b[0m\u001b[0m\n\u001b[0;32m      4\u001b[0m     \u001b[1;32mif\u001b[0m \u001b[1;34m\"test\"\u001b[0m \u001b[1;32min\u001b[0m \u001b[0mscore_name\u001b[0m\u001b[1;33m:\u001b[0m\u001b[1;33m\u001b[0m\u001b[1;33m\u001b[0m\u001b[0m\n\u001b[0;32m      5\u001b[0m         \u001b[0mprint\u001b[0m\u001b[1;33m(\u001b[0m\u001b[0mscore_name\u001b[0m\u001b[1;33m,\u001b[0m \u001b[1;34m\"\\t\"\u001b[0m\u001b[1;33m,\u001b[0m \u001b[0mnp\u001b[0m\u001b[1;33m.\u001b[0m\u001b[0mround\u001b[0m\u001b[1;33m(\u001b[0m\u001b[0mnp\u001b[0m\u001b[1;33m.\u001b[0m\u001b[0mmean\u001b[0m\u001b[1;33m(\u001b[0m\u001b[0mscore_value\u001b[0m\u001b[1;33m)\u001b[0m\u001b[1;33m,\u001b[0m \u001b[1;36m4\u001b[0m\u001b[1;33m)\u001b[0m\u001b[1;33m)\u001b[0m\u001b[1;33m\u001b[0m\u001b[1;33m\u001b[0m\u001b[0m\n",
      "\u001b[1;31mNameError\u001b[0m: name 'LinearRegression' is not defined"
     ]
    }
   ],
   "source": [
    "scores = cross_validate(LinearRegression(solver='lbfgs'), npdata, nptarget, scoring=scoring_metrics, cv=5)\n",
    "                        \n",
    "for score_name, score_value in scores.items():\n",
    "    if \"test\" in score_name:\n",
    "        print(score_name, \"\\t\", np.round(np.mean(score_value), 4))"
   ]
  },
  {
   "cell_type": "markdown",
   "metadata": {},
   "source": [
    "<h1> Graphs"
   ]
  },
  {
   "cell_type": "code",
   "execution_count": 38,
   "metadata": {},
   "outputs": [],
   "source": [
    "pitch_stdev = npdata[:,0]\n",
    "pitch = npdata[:,1]\n",
    "min_pitch = npdata[:,2]\n",
    "max_pitch = npdata[:,3]\n",
    "intensity_stdev = npdata[:,4]\n",
    "intensity = npdata[:,5]\n",
    "min_intensity = npdata[:,6]\n",
    "max_intensity = npdata[:,7]\n",
    "duration = npdata[:,8]"
   ]
  },
  {
   "cell_type": "markdown",
   "metadata": {},
   "source": [
    "<p>Mean Pitch <br>  Mean Intensity <br> Mean Duration </p>"
   ]
  },
  {
   "cell_type": "code",
   "execution_count": 39,
   "metadata": {},
   "outputs": [
    {
     "data": {
      "image/png": "[encoded data removed]",
      "text/plain": [
       "<Figure size 432x288 with 3 Axes>"
      ]
     },
     "metadata": {
      "needs_background": "light"
     },
     "output_type": "display_data"
    }
   ],
   "source": [
    "# fig, axs = plt.subplots(9, sharex=True)\n",
    "fig, axs = plt.subplots(3, sharex=True)\n",
    "\n",
    "for i in range(len(npdata)):\n",
    "    if nptarget[i] == 0:\n",
    "        axs[0].plot(i,pitch[i], color=\"red\", marker=\".\")\n",
    "        axs[1].plot(i,intensity[i], color=\"red\", marker=\".\")\n",
    "        axs[2].plot(i,duration[i], color=\"red\", marker=\".\")\n",
    "#        axs[3].plot(i,min_pitch[i], color=\"red\", marker=\".\")\n",
    "#        axs[4].plot(i,max_pitch[i], color=\"red\", marker=\".\")\n",
    "#        axs[5].plot(i,min_intensity[i], color=\"red\", marker=\".\")\n",
    "#        axs[6].plot(i,max_intensity[i], color=\"red\", marker=\".\")\n",
    "#        axs[7].plot(i,intensity_stdev[i], color=\"red\", marker=\".\")\n",
    "#        axs[8].plot(i,pitch_stdev[i], color=\"red\", marker=\".\")\n",
    "    elif nptarget[i] == 1:\n",
    "        axs[0].plot(i,pitch[i], color=\"blue\", marker=\".\")\n",
    "        axs[1].plot(i,intensity[i], color=\"blue\", marker=\".\")\n",
    "        axs[2].plot(i,duration[i], color=\"blue\", marker=\".\")\n",
    "#        axs[3].plot(i,min_pitch[i], color=\"blue\", marker=\".\")\n",
    "#        axs[4].plot(i,max_pitch[i], color=\"blue\", marker=\".\")\n",
    "#        axs[5].plot(i,min_intensity[i], color=\"blue\", marker=\".\")3        axs[6].plot(i,max_intensity[i], color=\"blue\", marker=\".\")\n",
    "#        axs[7].plot(i,intensity_stdev[i], color=\"blue\", marker=\".\")\n",
    "#        axs[8].plot(i,pitch_stdev[i], color=\"blue\", marker=\".\")\n",
    "    elif nptarget[i] == 2:\n",
    "        axs[0].plot(i,pitch[i], color= \"green\", marker=\".\")\n",
    "        axs[1].plot(i,intensity[i], color=\"green\", marker=\".\")\n",
    "        axs[2].plot(i,duration[i], color=\"green\", marker=\".\")\n",
    "#        axs[3].plot(i,min_pitch[i], color=\"green\", marker=\".\")\n",
    "#        axs[4].plot(i,max_pitch[i], color=\"green\", marker=\".\")\n",
    "#        axs[5].plot(i,min_intensity[i], color=\"green\", marker=\".\")\n",
    "#        axs[6].plot(i,max_intensity[i], color=\"green\", marker=\".\")\n",
    "#        axs[7].plot(i,intensity_stdev[i], color=\"green\", marker=\".\")\n",
    "#        axs[8].plot(i,pitch_stdev[i], color=\"green\", marker=\".\")\n",
    "    else:\n",
    "        axs[0].plot(i,pitch[i], color= \"yellow\", marker=\".\")\n",
    "        axs[1].plot(i,intensity[i], color=\"yellow\", marker=\".\")\n",
    "        axs[2].plot(i,duration[i], color=\"yellow\", marker=\".\")\n",
    "#        axs[3].plot(i,min_pitch[i], color=\"yellow\", marker=\".\")\n",
    "#        axs[4].plot(i,max_pitch[i], color=\"yellow\", marker=\".\")\n",
    "#        axs[5].plot(i,min_intensity[i], color=\"yellow\", marker=\".\")\n",
    "#        axs[6].plot(i,max_intensity[i], color=\"yellow\", marker=\".\")\n",
    "#        axs[7].plot(i,intensity_stdev[i], color=\"yellow\", marker=\".\")\n",
    "#        axs[8].plot(i,pitch_stdev[i], color=\"yellow\", marker=\".\")\n",
    "        \n",
    "\n",
    "axs[0].set_title(\"Pitch\")\n",
    "axs[1].set_title(\"Intensity\")\n",
    "axs[2].set_title(\"Duration\")\n",
    "#axs[3].set_title(\"Minimum Pitch\")\n",
    "#axs[4].set_title(\"Maximum Pitch\")\n",
    "#axs[5].set_title(\"Minimum Intensity\")\n",
    "#axs[6].set_title(\"Maximum Intensity\")\n",
    "#axs[7].set_title(\"Intensity Standard Deviation\")\n",
    "#axs[8].set_title(\"Pitch Standard Deviation\")\n",
    "\n",
    "axs[0].set_ylabel(\"Hz\")\n",
    "axs[1].set_ylabel(\"dB\")\n",
    "axs[2].set_ylabel(\"sec\")\n",
    "#axs[3].set_ylabel(\"Hz\")\n",
    "#axs[4].set_ylabel(\"Hz\")\n",
    "#axs[5].set_ylabel(\"dB\")\n",
    "#axs[6].set_ylabel(\"dB\")\n",
    "#axs[7].set_ylabel(\"dB\")\n",
    "#axs[8].set_ylabel(\"Hz\")\n",
    "\n",
    "fig.tight_layout(pad=3.0)\n",
    "\n",
    "plt.show()\n",
    "\n",
    "#red = greek \n",
    "#blue = spanish\n",
    "#green = english"
   ]
  },
  {
   "cell_type": "markdown",
   "metadata": {},
   "source": [
    "<p> Minimum Pitch <br> Maximum Pitch <br> Pitch Standard Deviation </p>"
   ]
  },
  {
   "cell_type": "code",
   "execution_count": 40,
   "metadata": {},
   "outputs": [
    {
     "data": {
      "image/png": "[encoded data removed]",
      "text/plain": [
       "<Figure size 432x288 with 3 Axes>"
      ]
     },
     "metadata": {
      "needs_background": "light"
     },
     "output_type": "display_data"
    }
   ],
   "source": [
    "fig, axs = plt.subplots(3, sharex=True)\n",
    "\n",
    "for i in range(len(npdata)):\n",
    "    if nptarget[i] == 0:\n",
    "        axs[0].plot(i,min_pitch[i], color=\"red\", marker=\".\")\n",
    "        axs[1].plot(i,max_pitch[i], color=\"red\", marker=\".\")\n",
    "        axs[2].plot(i,pitch_stdev[i], color=\"red\", marker=\".\")\n",
    "    elif nptarget[i] == 1:\n",
    "        axs[0].plot(i,min_pitch[i], color=\"blue\", marker=\".\")\n",
    "        axs[1].plot(i,max_pitch[i], color=\"blue\", marker=\".\")\n",
    "        axs[2].plot(i,pitch_stdev[i], color=\"blue\", marker=\".\")\n",
    "    elif nptarget[i] == 2:\n",
    "        axs[0].plot(i,min_pitch[i], color=\"green\", marker=\".\")\n",
    "        axs[1].plot(i,max_pitch[i], color=\"green\", marker=\".\")\n",
    "        axs[2].plot(i,pitch_stdev[i], color=\"green\", marker=\".\")\n",
    "    else:\n",
    "        axs[0].plot(i,min_pitch[i], color=\"yellow\", marker=\".\")\n",
    "        axs[1].plot(i,max_pitch[i], color=\"yellow\", marker=\".\")\n",
    "        axs[2].plot(i,pitch_stdev[i], color=\"yellow\", marker=\".\")\n",
    "        \n",
    "axs[0].set_title(\"Minimum Pitch\")\n",
    "axs[1].set_title(\"Maximum Pitch\")\n",
    "axs[2].set_title(\"Pitch Standard Deviation\")\n",
    "\n",
    "axs[0].set_ylabel(\"Hz\")\n",
    "axs[1].set_ylabel(\"Hz\")\n",
    "axs[2].set_ylabel(\"Hz\")\n",
    "\n",
    "fig.tight_layout(pad=3.0)\n",
    "\n",
    "plt.show()"
   ]
  },
  {
   "cell_type": "markdown",
   "metadata": {},
   "source": [
    "<p> Minimum Intensity <br> Maximum Intensity <br> Intensity Standard Deviation </p>"
   ]
  },
  {
   "cell_type": "code",
   "execution_count": 41,
   "metadata": {},
   "outputs": [
    {
     "data": {
      "image/png": "[encoded data removed]",
      "text/plain": [
       "<Figure size 432x288 with 3 Axes>"
      ]
     },
     "metadata": {
      "needs_background": "light"
     },
     "output_type": "display_data"
    }
   ],
   "source": [
    "fig, axs = plt.subplots(3, sharex=True)\n",
    "\n",
    "for i in range(len(npdata)):\n",
    "    if nptarget[i] == 0:\n",
    "        axs[0].plot(i,min_intensity[i], color=\"red\", marker=\".\")\n",
    "        axs[1].plot(i,max_intensity[i], color=\"red\", marker=\".\")\n",
    "        axs[2].plot(i,intensity_stdev[i], color=\"red\", marker=\".\")\n",
    "    elif nptarget[i] == 1:\n",
    "        axs[0].plot(i,min_intensity[i], color=\"blue\", marker=\".\")\n",
    "        axs[1].plot(i,max_intensity[i], color=\"blue\", marker=\".\")\n",
    "        axs[2].plot(i,intensity_stdev[i], color=\"blue\", marker=\".\")\n",
    "    elif nptarget[i] == 2:\n",
    "        axs[0].plot(i,min_intensity[i], color=\"green\", marker=\".\")\n",
    "        axs[1].plot(i,max_intensity[i], color=\"green\", marker=\".\")\n",
    "        axs[2].plot(i,intensity_stdev[i], color=\"green\", marker=\".\")\n",
    "    else:\n",
    "        axs[0].plot(i,min_intensity[i], color=\"yellow\", marker=\".\")\n",
    "        axs[1].plot(i,max_intensity[i], color=\"yellow\", marker=\".\")\n",
    "        axs[2].plot(i,intensity_stdev[i], color=\"yellow\", marker=\".\")\n",
    "        \n",
    "\n",
    "axs[0].set_title(\"Minimum Intensity\")\n",
    "axs[1].set_title(\"Maximum Intensity\")\n",
    "axs[2].set_title(\"Intensity Standard Deviation\")\n",
    "\n",
    "axs[0].set_ylabel(\"dB\")\n",
    "axs[1].set_ylabel(\"dB\")\n",
    "axs[2].set_ylabel(\"dB\")\n",
    "\n",
    "fig.tight_layout(pad=3.0)\n",
    "\n",
    "plt.show()"
   ]
  },
  {
   "cell_type": "markdown",
   "metadata": {},
   "source": [
    "Compiling said data to compatible formats and whatnot"
   ]
  },
  {
   "cell_type": "code",
   "execution_count": null,
   "metadata": {},
   "outputs": [],
   "source": [
    "#insert code here"
   ]
  },
  {
   "cell_type": "markdown",
   "metadata": {},
   "source": [
    "Feature Extraction and beyond..."
   ]
  }
 ],
 "metadata": {
  "kernelspec": {
   "display_name": "Python 3",
   "language": "python",
   "name": "python3"
  },
  "language_info": {
   "codemirror_mode": {
    "name": "ipython",
    "version": 3
   },
   "file_extension": ".py",
   "mimetype": "text/x-python",
   "name": "python",
   "nbconvert_exporter": "python",
   "pygments_lexer": "ipython3",
   "version": "3.8.3"
  }
 },
 "nbformat": 4,
 "nbformat_minor": 4
}
