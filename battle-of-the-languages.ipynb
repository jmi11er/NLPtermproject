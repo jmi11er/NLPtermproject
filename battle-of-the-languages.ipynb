{
 "cells": [
  {
   "cell_type": "markdown",
   "metadata": {},
   "source": [
    "# **Battle of the Languages**\n",
    "here is our code, blah blah blah, we can write more stuff here later\n",
    "please feel free to play with the groupings and cells, I just did some initial stuff I thought  might be helpful, but it might need to be broken up more"
   ]
  },
  {
   "cell_type": "markdown",
   "metadata": {},
   "source": [
    "Importing the Data from the various databases:\n",
    "\n",
    "https://github.com/festvox/datasets-CMU_Wilderness One of the ones Emily recommended, has like 700 languages, seems like it was mined from people reading the new testament. has polish, spanish, english, (probably has greek but it's labeled by the language in that language so I was not positive what I was looking for)\n",
    "\n",
    "https://openslr.org/resources.php The other one Emily recommended instead of the UPenn one, had a brief look and seems like it might be more helpful for spanish/english."
   ]
  },
  {
   "cell_type": "code",
   "execution_count": 1,
   "metadata": {},
   "outputs": [],
   "source": [
    "# YOUR FILEPATH HERE\n",
    "FILEPATH = \"/Users/eviprousanidou/Desktop/BC/Natural Language Programming/NLPTermProject/\" "
   ]
  },
  {
   "cell_type": "code",
   "execution_count": 2,
   "metadata": {},
   "outputs": [],
   "source": [
    "import glob\n",
    "import re\n",
    "import parselmouth\n",
    "from parselmouth.praat import call\n",
    "import numpy as np\n",
    "\n",
    "from os.path import join\n",
    "\n",
    "\n",
    "import parselmouth, matplotlib.pyplot as plt\n",
    "from collections import Counter\n",
    "from sklearn import metrics\n",
    "from sklearn.model_selection import cross_validate\n",
    "from sklearn.model_selection import cross_val_score\n",
    "from sklearn.utils.multiclass import type_of_target\n",
    "\n",
    "from sklearn.naive_bayes import GaussianNB\n",
    "from sklearn.svm import LinearSVC\n",
    "from sklearn.neural_network import MLPClassifier\n",
    "from sklearn.tree import DecisionTreeClassifier\n",
    "from sklearn.ensemble import RandomForestClassifier\n",
    "from sklearn.linear_model import LogisticRegression\n",
    "from sklearn.ensemble import AdaBoostClassifier\n",
    "from sklearn.discriminant_analysis import QuadraticDiscriminantAnalysis\n",
    "from sklearn.neighbors import KNeighborsClassifier\n",
    "\n"
   ]
  },
  {
   "cell_type": "markdown",
   "metadata": {},
   "source": [
    "<h1> Get Features"
   ]
  },
  {
   "cell_type": "code",
   "execution_count": 3,
   "metadata": {},
   "outputs": [],
   "source": [
    "def getFeatures(wav_file):\n",
    "    # get duration, mean pitch, mean intensity\n",
    "    sound = parselmouth.Sound(wav_file)\n",
    "    # pitch\n",
    "    pitch = call(sound, \"To Pitch\", 0, 75, 600) \n",
    "    \n",
    "    # new ==============\n",
    "    pitch_stdev = call(pitch, \"Get standard deviation\", 0, 0, \"Hertz\")\n",
    "    \n",
    "    mean_pitch = call(pitch, \"Get mean\", 0, 0, \"Hertz\")\n",
    "    min_pitch = call(pitch, \"Get minimum\", 0, 0, \"Hertz\", \"Parabolic\")\n",
    "    max_pitch = call(pitch, \"Get maximum\", 0, 0, \"Hertz\", \"Parabolic\")\n",
    "    \n",
    "    # intensity\n",
    "    intensity = call(sound, \"To Intensity\", 75, 0, \"yes\")\n",
    "\n",
    "    # new ==============\n",
    "    intensity_stdev = call(intensity, \"Get standard deviation\", 0, 0)\n",
    "    \n",
    "    mean_intensity = call(intensity, \"Get mean\", 0, 0, \"energy\")\n",
    "    min_intensity = call(intensity, \"Get minimum\", 0, 0, \"Parabolic\")\n",
    "    max_intensity = call(intensity, \"Get maximum\", 0, 0, \"Parabolic\")\n",
    "    \n",
    "\n",
    "    duration = call(sound, \"Get total duration\")\n",
    "\n",
    "    # get mean features for vowels and consonants\n",
    "    formant = call(sound, \"To Formant (burg)\", 0, 5, 5500, 0.025, 50)\n",
    "  \n",
    "    #tg_file = re.sub(\"wav\", \"TextGrid\", wav_file)\n",
    "    #textgrid = call(\"Read from file\", tg_file)\n",
    "    #intv = call(textgrid, \"Get number of intervals\", 1)\n",
    "    \n",
    "    # new ==============\n",
    "    # get mfccs\n",
    "    #mfccs = call(sound, \"To MFCC\", 12, 0.015, 0.005, 100, 100, 0).to_array()\n",
    "    #mfccs_avg = [np.mean(mfccs[i]) for i in range(13)]\n",
    "    \n",
    "    \n",
    "#     vowels = 0\n",
    "#     consonants = 0\n",
    "#     f1_vowels = 0\n",
    "#     dur_vowels = 0\n",
    "    \n",
    "\n",
    "\n",
    "#     for i in range(1, intv):\n",
    "#         phone = call(textgrid, \"Get label of interval\", 1, i)\n",
    "#         # vowels\n",
    "#         if phone == 'sil': continue\n",
    "#         if re.match('[AEIOU]', phone):\n",
    "#             vowels += 1\n",
    "#             vowel_onset = call(textgrid, \"Get starting point\", 1, i)\n",
    "#             vowel_offset = call(textgrid, \"Get end point\", 1, i)\n",
    "#             midpoint = vowel_onset + ((vowel_offset - vowel_onset) / 2)\n",
    "#             f1_vowels += call(formant, \"Get value at time\", 1, midpoint, \"Hertz\", \"Linear\")\n",
    "#             dur_vowels += vowel_offset - vowel_onset\n",
    "    \n",
    "#     f1_vowels = f1_vowels / vowels if vowels > 0 else 0\n",
    "#     dur_vowels = dur_vowels / vowels if vowels > 0 else 0\n",
    "    \n",
    "    \n",
    "\n",
    "    results = [\n",
    "                pitch_stdev,\n",
    "                mean_pitch, \n",
    "                min_pitch,\n",
    "                max_pitch,\n",
    "                intensity_stdev,\n",
    "                mean_intensity, \n",
    "                min_intensity,\n",
    "                max_intensity,\n",
    "                duration,\n",
    "               # mfcc_avg,\n",
    "#                 f1_vowels, \n",
    "#                 dur_vowels,\n",
    "            ]\n",
    "   \n",
    "    return results"
   ]
  },
  {
   "cell_type": "markdown",
   "metadata": {},
   "source": [
    "<h1> Read Greek Data\n",
    "    "
   ]
  },
  {
   "cell_type": "code",
   "execution_count": null,
   "metadata": {},
   "outputs": [
    {
     "name": "stdout",
     "output_type": "stream",
     "text": [
      "100 /Users/eviprousanidou/Desktop/BC/Natural Language Programming/NLPTermProject/data/Greek/Paramythi_horis_onoma_0152.wav\n",
      "200 /Users/eviprousanidou/Desktop/BC/Natural Language Programming/NLPTermProject/data/Greek/Paramythi_horis_onoma_1071.wav\n",
      "300 /Users/eviprousanidou/Desktop/BC/Natural Language Programming/NLPTermProject/data/Greek/Paramythi_horis_onoma_0544.wav\n",
      "400 /Users/eviprousanidou/Desktop/BC/Natural Language Programming/NLPTermProject/data/Greek/Paramythi_horis_onoma_0751.wav\n",
      "500 /Users/eviprousanidou/Desktop/BC/Natural Language Programming/NLPTermProject/data/Greek/Paramythi_horis_onoma_1366.wav\n",
      "600 /Users/eviprousanidou/Desktop/BC/Natural Language Programming/NLPTermProject/data/Greek/Paramythi_horis_onoma_1173.wav\n",
      "700 /Users/eviprousanidou/Desktop/BC/Natural Language Programming/NLPTermProject/data/Greek/Paramythi_horis_onoma_0446.wav\n",
      "800 /Users/eviprousanidou/Desktop/BC/Natural Language Programming/NLPTermProject/data/Greek/Paramythi_horis_onoma_0135.wav\n",
      "900 /Users/eviprousanidou/Desktop/BC/Natural Language Programming/NLPTermProject/data/Greek/Paramythi_horis_onoma_0108.wav\n",
      "1000 /Users/eviprousanidou/Desktop/BC/Natural Language Programming/NLPTermProject/data/Greek/Paramythi_horis_onoma_1805.wav\n",
      "1100 /Users/eviprousanidou/Desktop/BC/Natural Language Programming/NLPTermProject/data/Greek/Paramythi_horis_onoma_0729.wav\n",
      "1200 /Users/eviprousanidou/Desktop/BC/Natural Language Programming/NLPTermProject/data/Greek/Paramythi_horis_onoma_1369.wav\n",
      "1300 /Users/eviprousanidou/Desktop/BC/Natural Language Programming/NLPTermProject/data/Greek/Paramythi_horis_onoma_0289.wav\n",
      "1400 /Users/eviprousanidou/Desktop/BC/Natural Language Programming/NLPTermProject/data/Greek/Paramythi_horis_onoma_0614.wav\n",
      "1500 /Users/eviprousanidou/Desktop/BC/Natural Language Programming/NLPTermProject/data/Greek/Paramythi_horis_onoma_0832.wav\n",
      "1600 /Users/eviprousanidou/Desktop/BC/Natural Language Programming/NLPTermProject/data/Greek/Paramythi_horis_onoma_0399.wav\n",
      "1700 /Users/eviprousanidou/Desktop/BC/Natural Language Programming/NLPTermProject/data/Greek/Paramythi_horis_onoma_0217.wav\n",
      "1800 /Users/eviprousanidou/Desktop/BC/Natural Language Programming/NLPTermProject/data/Greek/Paramythi_horis_onoma_0002.wav\n"
     ]
    }
   ],
   "source": [
    "counter = 0 \n",
    "\n",
    "greek=[]\n",
    "\n",
    "for wav_file in glob.glob(join(FILEPATH, \"data/Greek/*.wav\")):\n",
    "    \n",
    "    # print progress\n",
    "    counter += 1\n",
    "    if counter % 100 == 0:\n",
    "        print(counter, wav_file)\n",
    "\n",
    "    results = getFeatures(wav_file)\n",
    "    greek.append(results)\n",
    "    \n",
    "#counter is 1800"
   ]
  },
  {
   "cell_type": "markdown",
   "metadata": {},
   "source": [
    "<h1> Read Polish / Czech Data"
   ]
  },
  {
   "cell_type": "code",
   "execution_count": null,
   "metadata": {},
   "outputs": [],
   "source": [
    "counter = 0 \n",
    "\n",
    "czech=[]\n",
    "\n",
    "for wav_file in glob.glob(join(FILEPATH, \"data/Czech/*.wav\")):\n",
    "    \n",
    "    # print progress\n",
    "    counter += 1\n",
    "    if counter % 100 == 0:\n",
    "        print(counter, wav_file)\n",
    "\n",
    "    results = getFeatures(wav_file)\n",
    "    czech.append(results)"
   ]
  },
  {
   "cell_type": "markdown",
   "metadata": {},
   "source": [
    "<h1> Read Spanish Data"
   ]
  },
  {
   "cell_type": "code",
   "execution_count": null,
   "metadata": {},
   "outputs": [],
   "source": [
    "counter = 0 \n",
    "\n",
    "spanish=[]\n",
    "\n",
    "print(\"female\")\n",
    "for wav_file in glob.glob(join(FILEPATH, \"data/Spanish/female/*.wav\")):\n",
    "    \n",
    "    # print progress\n",
    "    counter += 1\n",
    "    if counter % 100 == 0:\n",
    "        print(counter, wav_file)\n",
    "\n",
    "    results = getFeatures(wav_file)\n",
    "    spanish.append(results)\n",
    "#count is 700\n",
    "print(\"male\")\n",
    "for wav_file in glob.glob(join(FILEPATH, \"data/Spanish/male/*.wav\")):\n",
    "    \n",
    "    # print progress\n",
    "    counter += 1\n",
    "    if counter % 100 == 0:\n",
    "        print(counter, wav_file)\n",
    "\n",
    "    results = getFeatures(wav_file)\n",
    "    spanish.append(results)\n",
    "    \n",
    "#count is 2000"
   ]
  },
  {
   "cell_type": "markdown",
   "metadata": {},
   "source": [
    "<h1> Read English Data"
   ]
  },
  {
   "cell_type": "code",
   "execution_count": null,
   "metadata": {},
   "outputs": [],
   "source": [
    "counter = 0 \n",
    "\n",
    "english=[]\n",
    "\n",
    "for wav_file in glob.glob(join(FILEPATH, \"data/English/*.wav\")):\n",
    "    \n",
    "    # print progress\n",
    "    counter += 1\n",
    "    if counter % 100 == 0:\n",
    "        print(counter, wav_file)\n",
    "\n",
    "    results = getFeatures(wav_file)\n",
    "    english.append(results)\n",
    "    \n",
    "#count is 2000"
   ]
  },
  {
   "cell_type": "code",
   "execution_count": null,
   "metadata": {},
   "outputs": [],
   "source": [
    "# create class labels: greek = 0, spanish = 1, english = 2, czech = 3\n",
    "greek_labels = np.zeros(len(greek), dtype=int)\n",
    "spanish_labels = np.ones(len(spanish), dtype=int)\n",
    "english_labels = np.full(len(english), int(2.0))\n",
    "czech_labels = np.full(len(czech), int(3.0))\n",
    "\n",
    "# put all features into a single numpy array\n",
    "npdata = np.array(greek + spanish + english + czech)\n",
    "\n",
    "# put all labels into a single numpy array\n",
    "nptarget = np.concatenate([greek_labels, spanish_labels, english_labels, czech_labels])\n"
   ]
  },
  {
   "cell_type": "code",
   "execution_count": null,
   "metadata": {},
   "outputs": [],
   "source": [
    "print(len(npdata))\n",
    "print(npdata)\n",
    "print(nptarget)"
   ]
  },
  {
   "cell_type": "markdown",
   "metadata": {},
   "source": [
    "<h1> Feature Selection\n",
    "    "
   ]
  },
  {
   "cell_type": "markdown",
   "metadata": {},
   "source": [
    "<p> Comment out any features we don't want to include"
   ]
  },
  {
   "cell_type": "code",
   "execution_count": null,
   "metadata": {},
   "outputs": [],
   "source": [
    "selection = [\n",
    "    0, # pitch_stdev\n",
    "    1, # mean_pitch\n",
    "    2, # min_pitch\n",
    "    3, # max_pitch\n",
    "    4, # intensity_stdev\n",
    "    5, # mean_intensity\n",
    "    6, # min_intensity\n",
    "    7, # max_intensity\n",
    "    8, # duration\n",
    "   # 9, # mfcc_avg\n",
    "]\n",
    "\n",
    "npdata = npdata[:, selection]\n",
    "\n",
    "print(npdata.shape)"
   ]
  },
  {
   "cell_type": "markdown",
   "metadata": {},
   "source": [
    "<h1> Scoring Metrics\n",
    "    "
   ]
  },
  {
   "cell_type": "code",
   "execution_count": null,
   "metadata": {},
   "outputs": [],
   "source": [
    "scoring_metrics = ['accuracy', 'precision', 'recall', 'f1']"
   ]
  },
  {
   "cell_type": "markdown",
   "metadata": {},
   "source": [
    "<h1> Models"
   ]
  },
  {
   "cell_type": "code",
   "execution_count": null,
   "metadata": {},
   "outputs": [],
   "source": [
    "models = [\n",
    "            GaussianNB(), \n",
    "            MLPClassifier(max_iter=300),\n",
    "            LinearSVC(), \n",
    "            # Feedforward Neural Network\n",
    "            QuadraticDiscriminantAnalysis(),\n",
    "            LogisticRegression(),\n",
    "            RandomForestClassifier(max_depth=4),  # try more max_depth\n",
    "            DecisionTreeClassifier(), \n",
    "            KNeighborsClassifier(n_neighbors=3), # try more number of neighbors\n",
    "            AdaBoostClassifier(n_estimators=100)\n",
    "        ]"
   ]
  },
  {
   "cell_type": "code",
   "execution_count": null,
   "metadata": {},
   "outputs": [],
   "source": [
    "print(models)\n",
    "\n",
    "print(type(nptarget))"
   ]
  },
  {
   "cell_type": "markdown",
   "metadata": {},
   "source": [
    "<h1> Test each Model\n",
    "    "
   ]
  },
  {
   "cell_type": "markdown",
   "metadata": {},
   "source": [
    "our target is not binary it has 4 unique values (0,1,2,3)\n",
    "    "
   ]
  },
  {
   "cell_type": "code",
   "execution_count": null,
   "metadata": {},
   "outputs": [],
   "source": [
    "for model in models:\n",
    "\n",
    "    # print model name\n",
    "    model_name = str(type(model))\n",
    "    model_name = model_name[model_name.rfind('.')+1:-2]\n",
    "    print('\\n' + model_name + '\\n')\n",
    "\n",
    "    # train and cross validate with 5 folds\n",
    "    scores = cross_validate(model, npdata, nptarget, scoring=scoring_metrics, cv=5)\n",
    "    for score_name, score_value in scores.items():\n",
    "        if \"test\" in score_name:\n",
    "            print(score_name, \"\\t\", np.round(np.mean(score_value), 4))\n",
    "\n"
   ]
  },
  {
   "cell_type": "code",
   "execution_count": null,
   "metadata": {},
   "outputs": [],
   "source": [
    "scores = cross_validate(LinearRegression(solver='lbfgs'), npdata, nptarget, scoring=scoring_metrics, cv=5)\n",
    "                        \n",
    "for score_name, score_value in scores.items():\n",
    "    if \"test\" in score_name:\n",
    "        print(score_name, \"\\t\", np.round(np.mean(score_value), 4))"
   ]
  },
  {
   "cell_type": "markdown",
   "metadata": {},
   "source": [
    "<h1> Graphs"
   ]
  },
  {
   "cell_type": "code",
   "execution_count": null,
   "metadata": {},
   "outputs": [],
   "source": [
    "pitch_stdev = npdata[:,0]\n",
    "pitch = npdata[:,1]\n",
    "min_pitch = npdata[:,2]\n",
    "max_pitch = npdata[:,3]\n",
    "intensity_stdev = npdata[:,4]\n",
    "intensity = npdata[:,5]\n",
    "min_intensity = npdata[:,6]\n",
    "max_intensity = npdata[:,7]\n",
    "duration = npdata[:,8]"
   ]
  },
  {
   "cell_type": "markdown",
   "metadata": {},
   "source": [
    "<p>Mean Pitch <br>  Mean Intensity <br> Mean Duration </p>"
   ]
  },
  {
   "cell_type": "code",
   "execution_count": null,
   "metadata": {},
   "outputs": [],
   "source": [
    "# fig, axs = plt.subplots(9, sharex=True)\n",
    "fig, axs = plt.subplots(3, sharex=True)\n",
    "\n",
    "for i in range(len(npdata)):\n",
    "    if nptarget[i] == 0:\n",
    "        axs[0].plot(i,pitch[i], color=\"red\", marker=\".\")\n",
    "        axs[1].plot(i,intensity[i], color=\"red\", marker=\".\")\n",
    "        axs[2].plot(i,duration[i], color=\"red\", marker=\".\")\n",
    "#        axs[3].plot(i,min_pitch[i], color=\"red\", marker=\".\")\n",
    "#        axs[4].plot(i,max_pitch[i], color=\"red\", marker=\".\")\n",
    "#        axs[5].plot(i,min_intensity[i], color=\"red\", marker=\".\")\n",
    "#        axs[6].plot(i,max_intensity[i], color=\"red\", marker=\".\")\n",
    "#        axs[7].plot(i,intensity_stdev[i], color=\"red\", marker=\".\")\n",
    "#        axs[8].plot(i,pitch_stdev[i], color=\"red\", marker=\".\")\n",
    "    elif nptarget[i] == 1:\n",
    "        axs[0].plot(i,pitch[i], color=\"blue\", marker=\".\")\n",
    "        axs[1].plot(i,intensity[i], color=\"blue\", marker=\".\")\n",
    "        axs[2].plot(i,duration[i], color=\"blue\", marker=\".\")\n",
    "#        axs[3].plot(i,min_pitch[i], color=\"blue\", marker=\".\")\n",
    "#        axs[4].plot(i,max_pitch[i], color=\"blue\", marker=\".\")\n",
    "#        axs[5].plot(i,min_intensity[i], color=\"blue\", marker=\".\")3        axs[6].plot(i,max_intensity[i], color=\"blue\", marker=\".\")\n",
    "#        axs[7].plot(i,intensity_stdev[i], color=\"blue\", marker=\".\")\n",
    "#        axs[8].plot(i,pitch_stdev[i], color=\"blue\", marker=\".\")\n",
    "    elif nptarget[i] == 2:\n",
    "        axs[0].plot(i,pitch[i], color= \"green\", marker=\".\")\n",
    "        axs[1].plot(i,intensity[i], color=\"green\", marker=\".\")\n",
    "        axs[2].plot(i,duration[i], color=\"green\", marker=\".\")\n",
    "#        axs[3].plot(i,min_pitch[i], color=\"green\", marker=\".\")\n",
    "#        axs[4].plot(i,max_pitch[i], color=\"green\", marker=\".\")\n",
    "#        axs[5].plot(i,min_intensity[i], color=\"green\", marker=\".\")\n",
    "#        axs[6].plot(i,max_intensity[i], color=\"green\", marker=\".\")\n",
    "#        axs[7].plot(i,intensity_stdev[i], color=\"green\", marker=\".\")\n",
    "#        axs[8].plot(i,pitch_stdev[i], color=\"green\", marker=\".\")\n",
    "    else:\n",
    "        axs[0].plot(i,pitch[i], color= \"yellow\", marker=\".\")\n",
    "        axs[1].plot(i,intensity[i], color=\"yellow\", marker=\".\")\n",
    "        axs[2].plot(i,duration[i], color=\"yellow\", marker=\".\")\n",
    "#        axs[3].plot(i,min_pitch[i], color=\"yellow\", marker=\".\")\n",
    "#        axs[4].plot(i,max_pitch[i], color=\"yellow\", marker=\".\")\n",
    "#        axs[5].plot(i,min_intensity[i], color=\"yellow\", marker=\".\")\n",
    "#        axs[6].plot(i,max_intensity[i], color=\"yellow\", marker=\".\")\n",
    "#        axs[7].plot(i,intensity_stdev[i], color=\"yellow\", marker=\".\")\n",
    "#        axs[8].plot(i,pitch_stdev[i], color=\"yellow\", marker=\".\")\n",
    "        \n",
    "\n",
    "axs[0].set_title(\"Pitch\")\n",
    "axs[1].set_title(\"Intensity\")\n",
    "axs[2].set_title(\"Duration\")\n",
    "#axs[3].set_title(\"Minimum Pitch\")\n",
    "#axs[4].set_title(\"Maximum Pitch\")\n",
    "#axs[5].set_title(\"Minimum Intensity\")\n",
    "#axs[6].set_title(\"Maximum Intensity\")\n",
    "#axs[7].set_title(\"Intensity Standard Deviation\")\n",
    "#axs[8].set_title(\"Pitch Standard Deviation\")\n",
    "\n",
    "axs[0].set_ylabel(\"Hz\")\n",
    "axs[1].set_ylabel(\"dB\")\n",
    "axs[2].set_ylabel(\"sec\")\n",
    "#axs[3].set_ylabel(\"Hz\")\n",
    "#axs[4].set_ylabel(\"Hz\")\n",
    "#axs[5].set_ylabel(\"dB\")\n",
    "#axs[6].set_ylabel(\"dB\")\n",
    "#axs[7].set_ylabel(\"dB\")\n",
    "#axs[8].set_ylabel(\"Hz\")\n",
    "\n",
    "fig.tight_layout(pad=3.0)\n",
    "\n",
    "plt.show()\n",
    "\n",
    "#red = greek \n",
    "#blue = spanish\n",
    "#green = english"
   ]
  },
  {
   "cell_type": "markdown",
   "metadata": {},
   "source": [
    "<p> Minimum Pitch <br> Maximum Pitch <br> Pitch Standard Deviation </p>"
   ]
  },
  {
   "cell_type": "code",
   "execution_count": null,
   "metadata": {},
   "outputs": [],
   "source": [
    "fig, axs = plt.subplots(3, sharex=True)\n",
    "\n",
    "for i in range(len(npdata)):\n",
    "    if nptarget[i] == 0:\n",
    "        axs[0].plot(i,min_pitch[i], color=\"red\", marker=\".\")\n",
    "        axs[1].plot(i,max_pitch[i], color=\"red\", marker=\".\")\n",
    "        axs[2].plot(i,pitch_stdev[i], color=\"red\", marker=\".\")\n",
    "    elif nptarget[i] == 1:\n",
    "        axs[0].plot(i,min_pitch[i], color=\"blue\", marker=\".\")\n",
    "        axs[1].plot(i,max_pitch[i], color=\"blue\", marker=\".\")\n",
    "        axs[2].plot(i,pitch_stdev[i], color=\"blue\", marker=\".\")\n",
    "    elif nptarget[i] == 2:\n",
    "        axs[0].plot(i,min_pitch[i], color=\"green\", marker=\".\")\n",
    "        axs[1].plot(i,max_pitch[i], color=\"green\", marker=\".\")\n",
    "        axs[2].plot(i,pitch_stdev[i], color=\"green\", marker=\".\")\n",
    "    else:\n",
    "        axs[0].plot(i,min_pitch[i], color=\"yellow\", marker=\".\")\n",
    "        axs[1].plot(i,max_pitch[i], color=\"yellow\", marker=\".\")\n",
    "        axs[2].plot(i,pitch_stdev[i], color=\"yellow\", marker=\".\")\n",
    "        \n",
    "axs[0].set_title(\"Minimum Pitch\")\n",
    "axs[1].set_title(\"Maximum Pitch\")\n",
    "axs[2].set_title(\"Pitch Standard Deviation\")\n",
    "\n",
    "axs[0].set_ylabel(\"Hz\")\n",
    "axs[1].set_ylabel(\"Hz\")\n",
    "axs[2].set_ylabel(\"Hz\")\n",
    "\n",
    "fig.tight_layout(pad=3.0)\n",
    "\n",
    "plt.show()"
   ]
  },
  {
   "cell_type": "markdown",
   "metadata": {},
   "source": [
    "<p> Minimum Intensity <br> Maximum Intensity <br> Intensity Standard Deviation </p>"
   ]
  },
  {
   "cell_type": "code",
   "execution_count": null,
   "metadata": {},
   "outputs": [],
   "source": [
    "fig, axs = plt.subplots(3, sharex=True)\n",
    "\n",
    "for i in range(len(npdata)):\n",
    "    if nptarget[i] == 0:\n",
    "        axs[0].plot(i,min_intensity[i], color=\"red\", marker=\".\")\n",
    "        axs[1].plot(i,max_intensity[i], color=\"red\", marker=\".\")\n",
    "        axs[2].plot(i,intensity_stdev[i], color=\"red\", marker=\".\")\n",
    "    elif nptarget[i] == 1:\n",
    "        axs[0].plot(i,min_intensity[i], color=\"blue\", marker=\".\")\n",
    "        axs[1].plot(i,max_intensity[i], color=\"blue\", marker=\".\")\n",
    "        axs[2].plot(i,intensity_stdev[i], color=\"blue\", marker=\".\")\n",
    "    elif nptarget[i] == 2:\n",
    "        axs[0].plot(i,min_intensity[i], color=\"green\", marker=\".\")\n",
    "        axs[1].plot(i,max_intensity[i], color=\"green\", marker=\".\")\n",
    "        axs[2].plot(i,intensity_stdev[i], color=\"green\", marker=\".\")\n",
    "    else:\n",
    "        axs[0].plot(i,min_intensity[i], color=\"yellow\", marker=\".\")\n",
    "        axs[1].plot(i,max_intensity[i], color=\"yellow\", marker=\".\")\n",
    "        axs[2].plot(i,intensity_stdev[i], color=\"yellow\", marker=\".\")\n",
    "        \n",
    "\n",
    "axs[0].set_title(\"Minimum Intensity\")\n",
    "axs[1].set_title(\"Maximum Intensity\")\n",
    "axs[2].set_title(\"Intensity Standard Deviation\")\n",
    "\n",
    "axs[0].set_ylabel(\"dB\")\n",
    "axs[1].set_ylabel(\"dB\")\n",
    "axs[2].set_ylabel(\"dB\")\n",
    "\n",
    "fig.tight_layout(pad=3.0)\n",
    "\n",
    "plt.show()"
   ]
  },
  {
   "cell_type": "markdown",
   "metadata": {},
   "source": [
    "Compiling said data to compatible formats and whatnot"
   ]
  },
  {
   "cell_type": "code",
   "execution_count": null,
   "metadata": {},
   "outputs": [],
   "source": [
    "#insert code here"
   ]
  },
  {
   "cell_type": "markdown",
   "metadata": {},
   "source": [
    "Feature Extraction and beyond..."
   ]
  }
 ],
 "metadata": {
  "kernelspec": {
   "display_name": "Python 3",
   "language": "python",
   "name": "python3"
  },
  "language_info": {
   "codemirror_mode": {
    "name": "ipython",
    "version": 3
   },
   "file_extension": ".py",
   "mimetype": "text/x-python",
   "name": "python",
   "nbconvert_exporter": "python",
   "pygments_lexer": "ipython3",
   "version": "3.8.3"
  }
 },
 "nbformat": 4,
 "nbformat_minor": 4
}
