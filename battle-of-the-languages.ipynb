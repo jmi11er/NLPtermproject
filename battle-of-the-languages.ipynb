{
 "cells": [
  {
   "cell_type": "markdown",
   "metadata": {},
   "source": [
    "# **Battle of the Languages**\n",
    "here is our code, blah blah blah, we can write more stuff here later\n",
    "please feel free to play with the groupings and cells, I just did some initial stuff I thought  might be helpful, but it might need to be broken up more"
   ]
  },
  {
   "cell_type": "markdown",
   "metadata": {},
   "source": [
    "Importing the Data from the various databases:\n",
    "\n",
    "https://github.com/festvox/datasets-CMU_Wilderness One of the ones Emily recommended, has like 700 languages, seems like it was mined from people reading the new testament. has polish, spanish, english, (probably has greek but it's labeled by the language in that language so I was not positive what I was looking for)\n",
    "\n",
    "https://openslr.org/resources.php The other one Emily recommended instead of the UPenn one, had a brief look and seems like it might be more helpful for spanish/english."
   ]
  },
  {
   "cell_type": "code",
   "execution_count": 2,
   "metadata": {},
   "outputs": [],
   "source": [
    "# YOUR FILEPATH HERE\n",
    "FILEPATH = \"/Users/eviprousanidou/Desktop/BC/Natural Language Programming/NLPTermProject/\" \n",
    "\n",
    "#FILEPATH = \"D:\\\\Users\\\\Kamil\\\\Projects\\\\0_Homework\\\\NLPtermproject\""
   ]
  },
  {
   "cell_type": "code",
   "execution_count": 3,
   "metadata": {},
   "outputs": [],
   "source": [
    "import glob\n",
    "import re\n",
    "import parselmouth\n",
    "from parselmouth.praat import call\n",
    "import numpy as np\n",
    "\n",
    "from os.path import join\n",
    "\n",
    "\n",
    "import parselmouth, matplotlib.pyplot as plt\n",
    "from collections import Counter\n",
    "from sklearn import metrics\n",
    "from sklearn.model_selection import cross_validate\n",
    "from sklearn.model_selection import cross_val_score\n",
    "from sklearn.utils.multiclass import type_of_target\n",
    "\n",
    "from sklearn.naive_bayes import GaussianNB\n",
    "from sklearn.svm import LinearSVC\n",
    "from sklearn.neural_network import MLPClassifier\n",
    "from sklearn.tree import DecisionTreeClassifier\n",
    "from sklearn.ensemble import RandomForestClassifier\n",
    "from sklearn.linear_model import LogisticRegression\n",
    "from sklearn.ensemble import AdaBoostClassifier\n",
    "from sklearn.discriminant_analysis import QuadraticDiscriminantAnalysis\n",
    "from sklearn.neighbors import KNeighborsClassifier\n",
    "\n"
   ]
  },
  {
   "cell_type": "markdown",
   "metadata": {},
   "source": [
    "<h1> Get Features"
   ]
  },
  {
   "cell_type": "code",
   "execution_count": 4,
   "metadata": {},
   "outputs": [],
   "source": [
    "def getFeatures(wav_file):\n",
    "    # get duration, mean pitch, mean intensity\n",
    "    sound = parselmouth.Sound(wav_file)\n",
    "    # pitch\n",
    "    pitch = call(sound, \"To Pitch\", 0, 75, 600) \n",
    "    \n",
    "    # new ==============\n",
    "    pitch_stdev = call(pitch, \"Get standard deviation\", 0, 0, \"Hertz\")\n",
    "    \n",
    "    mean_pitch = call(pitch, \"Get mean\", 0, 0, \"Hertz\")\n",
    "    min_pitch = call(pitch, \"Get minimum\", 0, 0, \"Hertz\", \"Parabolic\")\n",
    "    max_pitch = call(pitch, \"Get maximum\", 0, 0, \"Hertz\", \"Parabolic\")\n",
    "    \n",
    "    # intensity\n",
    "    intensity = call(sound, \"To Intensity\", 75, 0, \"yes\")\n",
    "\n",
    "    # new ==============\n",
    "    intensity_stdev = call(intensity, \"Get standard deviation\", 0, 0)\n",
    "    \n",
    "    mean_intensity = call(intensity, \"Get mean\", 0, 0, \"energy\")\n",
    "    min_intensity = call(intensity, \"Get minimum\", 0, 0, \"Parabolic\")\n",
    "    max_intensity = call(intensity, \"Get maximum\", 0, 0, \"Parabolic\")\n",
    "    \n",
    "\n",
    "    duration = call(sound, \"Get total duration\")\n",
    "\n",
    "    # get mean features for vowels and consonants\n",
    "    formant = call(sound, \"To Formant (burg)\", 0, 5, 5500, 0.025, 50)\n",
    "  \n",
    "    #tg_file = re.sub(\"wav\", \"TextGrid\", wav_file)\n",
    "    #textgrid = call(\"Read from file\", tg_file)\n",
    "    #intv = call(textgrid, \"Get number of intervals\", 1)\n",
    "    \n",
    "    # new ==============\n",
    "    # get mfccs\n",
    "    mfccs = call(sound, \"To MFCC\", 12, 0.015, 0.005, 100, 100, 0).to_array()\n",
    "    mfcc_avg = [np.mean(mfccs[i]) for i in range(13)]\n",
    "    \n",
    "    \n",
    "#     vowels = 0\n",
    "#     consonants = 0\n",
    "#     f1_vowels = 0\n",
    "#     dur_vowels = 0\n",
    "    \n",
    "\n",
    "\n",
    "#     for i in range(1, intv):\n",
    "#         phone = call(textgrid, \"Get label of interval\", 1, i)\n",
    "#         # vowels\n",
    "#         if phone == 'sil': continue\n",
    "#         if re.match('[AEIOU]', phone):\n",
    "#             vowels += 1\n",
    "#             vowel_onset = call(textgrid, \"Get starting point\", 1, i)\n",
    "#             vowel_offset = call(textgrid, \"Get end point\", 1, i)\n",
    "#             midpoint = vowel_onset + ((vowel_offset - vowel_onset) / 2)\n",
    "#             f1_vowels += call(formant, \"Get value at time\", 1, midpoint, \"Hertz\", \"Linear\")\n",
    "#             dur_vowels += vowel_offset - vowel_onset\n",
    "    \n",
    "#     f1_vowels = f1_vowels / vowels if vowels > 0 else 0\n",
    "#     dur_vowels = dur_vowels / vowels if vowels > 0 else 0\n",
    "    \n",
    "    \n",
    "\n",
    "    results = [\n",
    "                pitch_stdev,\n",
    "                mean_pitch, \n",
    "                min_pitch,\n",
    "                max_pitch,\n",
    "                intensity_stdev,\n",
    "                mean_intensity, \n",
    "                min_intensity,\n",
    "                max_intensity,\n",
    "                duration,\n",
    "                mfcc_avg,\n",
    "#                 f1_vowels, \n",
    "#                 dur_vowels,\n",
    "            ]\n",
    "   \n",
    "    return results"
   ]
  },
  {
   "cell_type": "markdown",
   "metadata": {},
   "source": [
    "<h1> Read Greek Data\n",
    "    "
   ]
  },
  {
   "cell_type": "code",
   "execution_count": 5,
   "metadata": {},
   "outputs": [
    {
     "name": "stdout",
     "output_type": "stream",
     "text": [
      "100 /Users/eviprousanidou/Desktop/BC/Natural Language Programming/NLPTermProject/data/Greek/Paramythi_horis_onoma_0152.wav\n",
      "200 /Users/eviprousanidou/Desktop/BC/Natural Language Programming/NLPTermProject/data/Greek/Paramythi_horis_onoma_1071.wav\n",
      "300 /Users/eviprousanidou/Desktop/BC/Natural Language Programming/NLPTermProject/data/Greek/Paramythi_horis_onoma_0544.wav\n",
      "400 /Users/eviprousanidou/Desktop/BC/Natural Language Programming/NLPTermProject/data/Greek/Paramythi_horis_onoma_0751.wav\n",
      "500 /Users/eviprousanidou/Desktop/BC/Natural Language Programming/NLPTermProject/data/Greek/Paramythi_horis_onoma_1366.wav\n",
      "600 /Users/eviprousanidou/Desktop/BC/Natural Language Programming/NLPTermProject/data/Greek/Paramythi_horis_onoma_1173.wav\n",
      "700 /Users/eviprousanidou/Desktop/BC/Natural Language Programming/NLPTermProject/data/Greek/Paramythi_horis_onoma_0446.wav\n",
      "800 /Users/eviprousanidou/Desktop/BC/Natural Language Programming/NLPTermProject/data/Greek/Paramythi_horis_onoma_0135.wav\n",
      "900 /Users/eviprousanidou/Desktop/BC/Natural Language Programming/NLPTermProject/data/Greek/Paramythi_horis_onoma_0108.wav\n",
      "1000 /Users/eviprousanidou/Desktop/BC/Natural Language Programming/NLPTermProject/data/Greek/Paramythi_horis_onoma_1805.wav\n",
      "1100 /Users/eviprousanidou/Desktop/BC/Natural Language Programming/NLPTermProject/data/Greek/Paramythi_horis_onoma_0729.wav\n",
      "1200 /Users/eviprousanidou/Desktop/BC/Natural Language Programming/NLPTermProject/data/Greek/Paramythi_horis_onoma_1369.wav\n",
      "1300 /Users/eviprousanidou/Desktop/BC/Natural Language Programming/NLPTermProject/data/Greek/Paramythi_horis_onoma_0289.wav\n",
      "1400 /Users/eviprousanidou/Desktop/BC/Natural Language Programming/NLPTermProject/data/Greek/Paramythi_horis_onoma_0614.wav\n",
      "1500 /Users/eviprousanidou/Desktop/BC/Natural Language Programming/NLPTermProject/data/Greek/Paramythi_horis_onoma_0832.wav\n",
      "1600 /Users/eviprousanidou/Desktop/BC/Natural Language Programming/NLPTermProject/data/Greek/Paramythi_horis_onoma_0399.wav\n",
      "1700 /Users/eviprousanidou/Desktop/BC/Natural Language Programming/NLPTermProject/data/Greek/Paramythi_horis_onoma_0217.wav\n",
      "1800 /Users/eviprousanidou/Desktop/BC/Natural Language Programming/NLPTermProject/data/Greek/Paramythi_horis_onoma_0002.wav\n"
     ]
    }
   ],
   "source": [
    "counter = 0 \n",
    "\n",
    "greek=[]\n",
    "\n",
    "for wav_file in glob.glob(join(FILEPATH, \"data/Greek/*.wav\")):\n",
    "    \n",
    "    # print progress\n",
    "    counter += 1\n",
    "    if counter % 100 == 0:\n",
    "        print(counter, wav_file)\n",
    "\n",
    "    results = getFeatures(wav_file)\n",
    "    greek.append(results)\n",
    "    \n",
    "#counter is 1800"
   ]
  },
  {
   "cell_type": "markdown",
   "metadata": {},
   "source": [
    "<h1> Read Polish / Czech Data"
   ]
  },
  {
   "cell_type": "code",
   "execution_count": 6,
   "metadata": {},
   "outputs": [],
   "source": [
    "counter = 0 \n",
    "\n",
    "czech=[]\n",
    "\n",
    "for wav_file in glob.glob(join(FILEPATH, \"data/Czech/*.wav\")):\n",
    "    \n",
    "    # print progress\n",
    "    counter += 1\n",
    "    if counter % 100 == 0:\n",
    "        print(counter, wav_file)\n",
    "\n",
    "    results = getFeatures(wav_file)\n",
    "    czech.append(results)"
   ]
  },
  {
   "cell_type": "markdown",
   "metadata": {},
   "source": [
    "<h1> Read Spanish Data"
   ]
  },
  {
   "cell_type": "code",
   "execution_count": 7,
   "metadata": {},
   "outputs": [
    {
     "name": "stdout",
     "output_type": "stream",
     "text": [
      "female\n",
      "100 /Users/eviprousanidou/Desktop/BC/Natural Language Programming/NLPTermProject/data/Spanish/female/cof_09334_01575955397.wav\n",
      "200 /Users/eviprousanidou/Desktop/BC/Natural Language Programming/NLPTermProject/data/Spanish/female/cof_09697_01517839556.wav\n",
      "300 /Users/eviprousanidou/Desktop/BC/Natural Language Programming/NLPTermProject/data/Spanish/female/cof_07508_01183638133.wav\n",
      "400 /Users/eviprousanidou/Desktop/BC/Natural Language Programming/NLPTermProject/data/Spanish/female/cof_08784_01759592410.wav\n",
      "500 /Users/eviprousanidou/Desktop/BC/Natural Language Programming/NLPTermProject/data/Spanish/female/cof_09697_01266210239.wav\n",
      "600 /Users/eviprousanidou/Desktop/BC/Natural Language Programming/NLPTermProject/data/Spanish/female/cof_07508_00368807575.wav\n",
      "700 /Users/eviprousanidou/Desktop/BC/Natural Language Programming/NLPTermProject/data/Spanish/female/cof_09697_01693011674.wav\n",
      "male\n",
      "800 /Users/eviprousanidou/Desktop/BC/Natural Language Programming/NLPTermProject/data/Spanish/male/com_09334_01894499008.wav\n",
      "900 /Users/eviprousanidou/Desktop/BC/Natural Language Programming/NLPTermProject/data/Spanish/male/com_08421_01490251040.wav\n",
      "1000 /Users/eviprousanidou/Desktop/BC/Natural Language Programming/NLPTermProject/data/Spanish/male/com_06136_00175964850.wav\n",
      "1100 /Users/eviprousanidou/Desktop/BC/Natural Language Programming/NLPTermProject/data/Spanish/male/com_09697_01755909522.wav\n",
      "1200 /Users/eviprousanidou/Desktop/BC/Natural Language Programming/NLPTermProject/data/Spanish/male/com_08421_01889920035.wav\n",
      "1300 /Users/eviprousanidou/Desktop/BC/Natural Language Programming/NLPTermProject/data/Spanish/male/com_06136_01665916150.wav\n",
      "1400 /Users/eviprousanidou/Desktop/BC/Natural Language Programming/NLPTermProject/data/Spanish/male/com_09334_00660403364.wav\n",
      "1500 /Users/eviprousanidou/Desktop/BC/Natural Language Programming/NLPTermProject/data/Spanish/male/com_08421_02059884868.wav\n",
      "1600 /Users/eviprousanidou/Desktop/BC/Natural Language Programming/NLPTermProject/data/Spanish/male/com_06136_01897189612.wav\n",
      "1700 /Users/eviprousanidou/Desktop/BC/Natural Language Programming/NLPTermProject/data/Spanish/male/com_08784_00445510370.wav\n",
      "1800 /Users/eviprousanidou/Desktop/BC/Natural Language Programming/NLPTermProject/data/Spanish/male/com_09334_00033616669.wav\n",
      "1900 /Users/eviprousanidou/Desktop/BC/Natural Language Programming/NLPTermProject/data/Spanish/male/com_09697_01446579768.wav\n",
      "2000 /Users/eviprousanidou/Desktop/BC/Natural Language Programming/NLPTermProject/data/Spanish/male/com_08421_01636597573.wav\n"
     ]
    }
   ],
   "source": [
    "counter = 0 \n",
    "\n",
    "spanish=[]\n",
    "\n",
    "print(\"female\")\n",
    "for wav_file in glob.glob(join(FILEPATH, \"data/Spanish/female/*.wav\")):\n",
    "    \n",
    "    # print progress\n",
    "    counter += 1\n",
    "    if counter % 100 == 0:\n",
    "        print(counter, wav_file)\n",
    "\n",
    "    results = getFeatures(wav_file)\n",
    "    spanish.append(results)\n",
    "#count is 700\n",
    "print(\"male\")\n",
    "for wav_file in glob.glob(join(FILEPATH, \"data/Spanish/male/*.wav\")):\n",
    "    \n",
    "    # print progress\n",
    "    counter += 1\n",
    "    if counter % 100 == 0:\n",
    "        print(counter, wav_file)\n",
    "\n",
    "    results = getFeatures(wav_file)\n",
    "    spanish.append(results)\n",
    "    \n",
    "#count is 2000"
   ]
  },
  {
   "cell_type": "markdown",
   "metadata": {},
   "source": [
    "<h1> Read English Data"
   ]
  },
  {
   "cell_type": "code",
   "execution_count": 8,
   "metadata": {},
   "outputs": [
    {
     "name": "stdout",
     "output_type": "stream",
     "text": [
      "100 /Users/eviprousanidou/Desktop/BC/Natural Language Programming/NLPTermProject/data/English/m0002_us_m0002_00192.wav\n",
      "200 /Users/eviprousanidou/Desktop/BC/Natural Language Programming/NLPTermProject/data/English/m0002_us_m0002_00344.wav\n",
      "300 /Users/eviprousanidou/Desktop/BC/Natural Language Programming/NLPTermProject/data/English/m0003_us_m0003_00339.wav\n",
      "400 /Users/eviprousanidou/Desktop/BC/Natural Language Programming/NLPTermProject/data/English/m0004_us_m0004_00097.wav\n",
      "500 /Users/eviprousanidou/Desktop/BC/Natural Language Programming/NLPTermProject/data/English/m0002_us_m0002_00020.wav\n",
      "600 /Users/eviprousanidou/Desktop/BC/Natural Language Programming/NLPTermProject/data/English/m0005_us_m0005_00314.wav\n",
      "700 /Users/eviprousanidou/Desktop/BC/Natural Language Programming/NLPTermProject/data/English/m0002_us_m0002_00332.wav\n",
      "800 /Users/eviprousanidou/Desktop/BC/Natural Language Programming/NLPTermProject/data/English/f0005_us_f0005_00309.wav\n",
      "900 /Users/eviprousanidou/Desktop/BC/Natural Language Programming/NLPTermProject/data/English/m0003_us_m0003_00013.wav\n",
      "1000 /Users/eviprousanidou/Desktop/BC/Natural Language Programming/NLPTermProject/data/English/f0005_us_f0005_00096.wav\n",
      "1100 /Users/eviprousanidou/Desktop/BC/Natural Language Programming/NLPTermProject/data/English/m0001_us_m0001_00043.wav\n",
      "1200 /Users/eviprousanidou/Desktop/BC/Natural Language Programming/NLPTermProject/data/English/m0005_us_m0005_00109.wav\n",
      "1300 /Users/eviprousanidou/Desktop/BC/Natural Language Programming/NLPTermProject/data/English/m0005_us_m0005_00246.wav\n",
      "1400 /Users/eviprousanidou/Desktop/BC/Natural Language Programming/NLPTermProject/data/English/m0001_us_m0001_00319.wav\n",
      "1500 /Users/eviprousanidou/Desktop/BC/Natural Language Programming/NLPTermProject/data/English/m0003_us_m0003_00219.wav\n",
      "1600 /Users/eviprousanidou/Desktop/BC/Natural Language Programming/NLPTermProject/data/English/f0005_us_f0005_00166.wav\n",
      "1700 /Users/eviprousanidou/Desktop/BC/Natural Language Programming/NLPTermProject/data/English/m0005_us_m0005_00432.wav\n",
      "1800 /Users/eviprousanidou/Desktop/BC/Natural Language Programming/NLPTermProject/data/English/m0003_us_m0003_00250.wav\n",
      "1900 /Users/eviprousanidou/Desktop/BC/Natural Language Programming/NLPTermProject/data/English/m0004_us_m0004_00088.wav\n",
      "2000 /Users/eviprousanidou/Desktop/BC/Natural Language Programming/NLPTermProject/data/English/m0003_us_m0003_00332.wav\n"
     ]
    }
   ],
   "source": [
    "counter = 0 \n",
    "\n",
    "english=[]\n",
    "\n",
    "for wav_file in glob.glob(join(FILEPATH, \"data/English/*.wav\")):\n",
    "    \n",
    "    # print progress\n",
    "    counter += 1\n",
    "    if counter % 100 == 0:\n",
    "        print(counter, wav_file)\n",
    "\n",
    "    results = getFeatures(wav_file)\n",
    "    english.append(results)\n",
    "    \n",
    "#count is 2000"
   ]
  },
  {
   "cell_type": "code",
   "execution_count": 9,
   "metadata": {},
   "outputs": [],
   "source": [
    "# create class labels: greek = 0, spanish = 1, english = 2, czech = 3\n",
    "greek_labels = np.zeros(len(greek), dtype=int)\n",
    "spanish_labels = np.ones(len(spanish), dtype=int)\n",
    "english_labels = np.full(len(english), int(2.0))\n",
    "czech_labels = np.full(len(czech), int(3.0))\n",
    "\n",
    "# put all features into a single numpy array\n",
    "npdata = np.array(greek + spanish + english + czech)\n",
    "\n",
    "# put all labels into a single numpy array\n",
    "nptarget = np.concatenate([greek_labels, spanish_labels, english_labels, czech_labels])\n"
   ]
  },
  {
   "cell_type": "code",
   "execution_count": 10,
   "metadata": {},
   "outputs": [
    {
     "name": "stdout",
     "output_type": "stream",
     "text": [
      "5889\n",
      "[[28.171864865114117 222.05145791477415 77.36791365378325 ...\n",
      "  77.71810155658841 9.109297052154195\n",
      "  list([794.6232770288011, 206.18296086276206, -15.749749639468783, 33.03331730417898, -66.67517022638992, -31.477095463100593, -24.16922759668025, -33.219773932700434, -0.14973016344202333, 4.742126605089077, -10.220179308388111, -14.604199504457004, -38.96172159415006])]\n",
      " [52.73114468689843 209.24585803044022 76.52557720685596 ...\n",
      "  78.0897979408865 8.261224489795918\n",
      "  list([821.3773356269571, 189.22685289716682, -47.28472029828508, 23.418944211243005, -67.1108603456165, -16.900124568406984, -16.797551124598293, -27.98501745307697, 3.230667693579529, 6.200501506493698, -1.3037569704700438, -12.686550154538024, -34.92012769842313])]\n",
      " [44.20851800231212 201.75764442499008 77.18254933213491 ...\n",
      "  78.36656516908114 9.83764172335601\n",
      "  list([693.1741864545868, 183.07198774924944, -22.491926277178916, 27.854160053235983, -50.57180269340481, -4.827452576699859, -1.4754217560954879, -16.02456607867455, -6.880698219933029, 5.455393169758682, -1.9084470007259609, -4.216738858348823, -33.47292138817836])]\n",
      " ...\n",
      " [14.254649144227779 105.19437040962057 75.02018247353786 ...\n",
      "  66.86877849307515 4.56\n",
      "  list([338.28637290652046, 83.01183955049024, 50.49747101866761, 30.4291241548403, 19.490295446910473, -3.910887850259569, -2.2354917551035327, -4.016797399478202, 7.9047051718642996, -0.44639961877071005, 6.031464478446218, 1.1390787295791545, -6.350329172636346])]\n",
      " [45.031457043419834 125.30111779720785 79.04124499474793 ...\n",
      "  64.77790529937666 6.92\n",
      "  list([403.66376661757, 59.266085225606204, 73.05983351172516, 20.427337362889567, 17.92390161738352, -10.216293239147118, -8.576692355668095, -4.784134057146226, 11.042502015874856, -2.9647681722212735, 6.514266988234825, -5.041890269231176, -2.403639451092665])]\n",
      " [17.942812447677724 115.72984786389738 85.40997537570532 ...\n",
      "  66.07982050607902 5.2\n",
      "  list([340.743106939154, 81.26144986552929, 48.989145797357885, 33.892572770777335, 18.290656097676983, -0.8920063025584485, 1.5277066853241037, -1.835398051840007, 13.67860110294297, 1.0356142081535828, 2.383892662416215, -1.4856647650309638, -2.950659044957767])]]\n",
      "[0 0 0 ... 2 2 2]\n"
     ]
    }
   ],
   "source": [
    "print(len(npdata))\n",
    "print(npdata)\n",
    "print(nptarget)"
   ]
  },
  {
   "cell_type": "markdown",
   "metadata": {},
   "source": [
    "<h1> Feature Selection\n",
    "    "
   ]
  },
  {
   "cell_type": "markdown",
   "metadata": {},
   "source": [
    "<p> Comment out any features we don't want to include"
   ]
  },
  {
   "cell_type": "code",
   "execution_count": 11,
   "metadata": {},
   "outputs": [
    {
     "name": "stdout",
     "output_type": "stream",
     "text": [
      "(5889, 9)\n"
     ]
    }
   ],
   "source": [
    "selection = [\n",
    "    0, # pitch_stdev\n",
    "    1, # mean_pitch\n",
    "    2, # min_pitch\n",
    "    3, # max_pitch\n",
    "    4, # intensity_stdev\n",
    "    5, # mean_intensity\n",
    "    6, # min_intensity\n",
    "    7, # max_intensity\n",
    "    8, # duration\n",
    "   # 9, # mfcc_avg\n",
    "]\n",
    "\n",
    "npdata = npdata[:, selection]\n",
    "\n",
    "print(npdata.shape)"
   ]
  },
  {
   "cell_type": "markdown",
   "metadata": {},
   "source": [
    "<h1> Scoring Metrics\n",
    "    "
   ]
  },
  {
   "cell_type": "code",
   "execution_count": 12,
   "metadata": {},
   "outputs": [],
   "source": [
    "# scoring_metrics = ['accuracy', 'precision', 'recall', 'f1']\n",
    "scoring_metrics = {'accuracy': metrics.make_scorer( metrics.accuracy_score),\n",
    "                   'precision': metrics.make_scorer( metrics.precision_score, average = 'macro'),\n",
    "                   'recall': metrics.make_scorer( metrics.recall_score, average = 'macro'),\n",
    "                   'f1_macro': metrics.make_scorer( metrics.f1_score, average = 'macro'),\n",
    "                   'f1_weighted': metrics.make_scorer( metrics.f1_score, average = 'weighted')}"
   ]
  },
  {
   "cell_type": "markdown",
   "metadata": {},
   "source": [
    "<h1> Models"
   ]
  },
  {
   "cell_type": "code",
   "execution_count": 13,
   "metadata": {},
   "outputs": [],
   "source": [
    "models = [\n",
    "            GaussianNB(), \n",
    "            MLPClassifier(max_iter=300),\n",
    "            LinearSVC(), \n",
    "            # Feedforward Neural Network\n",
    "            QuadraticDiscriminantAnalysis(),\n",
    "            LogisticRegression(),\n",
    "            RandomForestClassifier(max_depth=4),  # try more max_depth\n",
    "            DecisionTreeClassifier(), \n",
    "            KNeighborsClassifier(n_neighbors=3), # try more number of neighbors\n",
    "            AdaBoostClassifier(n_estimators=100)\n",
    "        ]"
   ]
  },
  {
   "cell_type": "code",
   "execution_count": 14,
   "metadata": {},
   "outputs": [
    {
     "name": "stdout",
     "output_type": "stream",
     "text": [
      "[GaussianNB(), MLPClassifier(max_iter=300), LinearSVC(), QuadraticDiscriminantAnalysis(), LogisticRegression(), RandomForestClassifier(max_depth=4), DecisionTreeClassifier(), KNeighborsClassifier(n_neighbors=3), AdaBoostClassifier(n_estimators=100)]\n",
      "<class 'numpy.ndarray'>\n"
     ]
    }
   ],
   "source": [
    "print(models)\n",
    "\n",
    "print(type(nptarget))"
   ]
  },
  {
   "cell_type": "markdown",
   "metadata": {},
   "source": [
    "<h1> Test each Model\n",
    "    "
   ]
  },
  {
   "cell_type": "markdown",
   "metadata": {},
   "source": [
    "our target is not binary it has 4 unique values (0,1,2,3)\n",
    "    "
   ]
  },
  {
   "cell_type": "code",
   "execution_count": 15,
   "metadata": {},
   "outputs": [
    {
     "name": "stdout",
     "output_type": "stream",
     "text": [
      "\n",
      "GaussianNB\n",
      "\n",
      "test_accuracy \t 0.9479\n",
      "test_precision \t 0.9539\n",
      "test_recall \t 0.9486\n",
      "test_f1_macro \t 0.9475\n",
      "test_f1_weighted \t 0.9482\n",
      "\n",
      "MLPClassifier\n",
      "\n",
      "test_accuracy \t 0.8698\n",
      "test_precision \t 0.8901\n",
      "test_recall \t 0.872\n",
      "test_f1_macro \t 0.8652\n",
      "test_f1_weighted \t 0.8627\n",
      "\n",
      "LinearSVC\n",
      "\n"
     ]
    },
    {
     "name": "stderr",
     "output_type": "stream",
     "text": [
      "/Users/eviprousanidou/opt/anaconda3/lib/python3.8/site-packages/sklearn/svm/_base.py:976: ConvergenceWarning: Liblinear failed to converge, increase the number of iterations.\n",
      "  warnings.warn(\"Liblinear failed to converge, increase \"\n",
      "/Users/eviprousanidou/opt/anaconda3/lib/python3.8/site-packages/sklearn/svm/_base.py:976: ConvergenceWarning: Liblinear failed to converge, increase the number of iterations.\n",
      "  warnings.warn(\"Liblinear failed to converge, increase \"\n",
      "/Users/eviprousanidou/opt/anaconda3/lib/python3.8/site-packages/sklearn/svm/_base.py:976: ConvergenceWarning: Liblinear failed to converge, increase the number of iterations.\n",
      "  warnings.warn(\"Liblinear failed to converge, increase \"\n",
      "/Users/eviprousanidou/opt/anaconda3/lib/python3.8/site-packages/sklearn/svm/_base.py:976: ConvergenceWarning: Liblinear failed to converge, increase the number of iterations.\n",
      "  warnings.warn(\"Liblinear failed to converge, increase \"\n",
      "/Users/eviprousanidou/opt/anaconda3/lib/python3.8/site-packages/sklearn/svm/_base.py:976: ConvergenceWarning: Liblinear failed to converge, increase the number of iterations.\n",
      "  warnings.warn(\"Liblinear failed to converge, increase \"\n",
      "/Users/eviprousanidou/opt/anaconda3/lib/python3.8/site-packages/sklearn/linear_model/_logistic.py:762: ConvergenceWarning: lbfgs failed to converge (status=1):\n",
      "STOP: TOTAL NO. of ITERATIONS REACHED LIMIT.\n",
      "\n",
      "Increase the number of iterations (max_iter) or scale the data as shown in:\n",
      "    https://scikit-learn.org/stable/modules/preprocessing.html\n",
      "Please also refer to the documentation for alternative solver options:\n",
      "    https://scikit-learn.org/stable/modules/linear_model.html#logistic-regression\n",
      "  n_iter_i = _check_optimize_result(\n"
     ]
    },
    {
     "name": "stdout",
     "output_type": "stream",
     "text": [
      "test_accuracy \t 0.7147\n",
      "test_precision \t 0.8147\n",
      "test_recall \t 0.7155\n",
      "test_f1_macro \t 0.695\n",
      "test_f1_weighted \t 0.6932\n",
      "\n",
      "QuadraticDiscriminantAnalysis\n",
      "\n",
      "test_accuracy \t 0.9733\n",
      "test_precision \t 0.9739\n",
      "test_recall \t 0.9736\n",
      "test_f1_macro \t 0.9732\n",
      "test_f1_weighted \t 0.9734\n",
      "\n",
      "LogisticRegression\n",
      "\n"
     ]
    },
    {
     "name": "stderr",
     "output_type": "stream",
     "text": [
      "/Users/eviprousanidou/opt/anaconda3/lib/python3.8/site-packages/sklearn/linear_model/_logistic.py:762: ConvergenceWarning: lbfgs failed to converge (status=1):\n",
      "STOP: TOTAL NO. of ITERATIONS REACHED LIMIT.\n",
      "\n",
      "Increase the number of iterations (max_iter) or scale the data as shown in:\n",
      "    https://scikit-learn.org/stable/modules/preprocessing.html\n",
      "Please also refer to the documentation for alternative solver options:\n",
      "    https://scikit-learn.org/stable/modules/linear_model.html#logistic-regression\n",
      "  n_iter_i = _check_optimize_result(\n",
      "/Users/eviprousanidou/opt/anaconda3/lib/python3.8/site-packages/sklearn/linear_model/_logistic.py:762: ConvergenceWarning: lbfgs failed to converge (status=1):\n",
      "STOP: TOTAL NO. of ITERATIONS REACHED LIMIT.\n",
      "\n",
      "Increase the number of iterations (max_iter) or scale the data as shown in:\n",
      "    https://scikit-learn.org/stable/modules/preprocessing.html\n",
      "Please also refer to the documentation for alternative solver options:\n",
      "    https://scikit-learn.org/stable/modules/linear_model.html#logistic-regression\n",
      "  n_iter_i = _check_optimize_result(\n",
      "/Users/eviprousanidou/opt/anaconda3/lib/python3.8/site-packages/sklearn/linear_model/_logistic.py:762: ConvergenceWarning: lbfgs failed to converge (status=1):\n",
      "STOP: TOTAL NO. of ITERATIONS REACHED LIMIT.\n",
      "\n",
      "Increase the number of iterations (max_iter) or scale the data as shown in:\n",
      "    https://scikit-learn.org/stable/modules/preprocessing.html\n",
      "Please also refer to the documentation for alternative solver options:\n",
      "    https://scikit-learn.org/stable/modules/linear_model.html#logistic-regression\n",
      "  n_iter_i = _check_optimize_result(\n",
      "/Users/eviprousanidou/opt/anaconda3/lib/python3.8/site-packages/sklearn/linear_model/_logistic.py:762: ConvergenceWarning: lbfgs failed to converge (status=1):\n",
      "STOP: TOTAL NO. of ITERATIONS REACHED LIMIT.\n",
      "\n",
      "Increase the number of iterations (max_iter) or scale the data as shown in:\n",
      "    https://scikit-learn.org/stable/modules/preprocessing.html\n",
      "Please also refer to the documentation for alternative solver options:\n",
      "    https://scikit-learn.org/stable/modules/linear_model.html#logistic-regression\n",
      "  n_iter_i = _check_optimize_result(\n"
     ]
    },
    {
     "name": "stdout",
     "output_type": "stream",
     "text": [
      "test_accuracy \t 0.8068\n",
      "test_precision \t 0.8102\n",
      "test_recall \t 0.8097\n",
      "test_f1_macro \t 0.8044\n",
      "test_f1_weighted \t 0.8017\n",
      "\n",
      "RandomForestClassifier\n",
      "\n",
      "test_accuracy \t 0.9603\n",
      "test_precision \t 0.9628\n",
      "test_recall \t 0.9606\n",
      "test_f1_macro \t 0.9599\n",
      "test_f1_weighted \t 0.9605\n",
      "\n",
      "DecisionTreeClassifier\n",
      "\n",
      "test_accuracy \t 0.9693\n",
      "test_precision \t 0.9692\n",
      "test_recall \t 0.9691\n",
      "test_f1_macro \t 0.9689\n",
      "test_f1_weighted \t 0.9692\n",
      "\n",
      "KNeighborsClassifier\n",
      "\n",
      "test_accuracy \t 0.9012\n",
      "test_precision \t 0.9084\n",
      "test_recall \t 0.9021\n",
      "test_f1_macro \t 0.899\n",
      "test_f1_weighted \t 0.8995\n",
      "\n",
      "AdaBoostClassifier\n",
      "\n",
      "test_accuracy \t 0.9582\n",
      "test_precision \t 0.9585\n",
      "test_recall \t 0.9581\n",
      "test_f1_macro \t 0.9579\n",
      "test_f1_weighted \t 0.9584\n"
     ]
    }
   ],
   "source": [
    "for model in models:\n",
    "\n",
    "    # print model name\n",
    "    model_name = str(type(model))\n",
    "    model_name = model_name[model_name.rfind('.')+1:-2]\n",
    "    print('\\n' + model_name + '\\n')\n",
    "\n",
    "    # train and cross validate with 5 folds\n",
    "    scores = cross_validate(model, npdata, nptarget, scoring=scoring_metrics, cv=5)\n",
    "    for score_name, score_value in scores.items():\n",
    "        if \"test\" in score_name:\n",
    "            print(score_name, \"\\t\", np.round(np.mean(score_value), 4))\n",
    "\n"
   ]
  },
  {
   "cell_type": "markdown",
   "metadata": {},
   "source": [
    "<h1> Graphs"
   ]
  },
  {
   "cell_type": "code",
   "execution_count": 17,
   "metadata": {},
   "outputs": [],
   "source": [
    "pitch_stdev = npdata[:,0]\n",
    "pitch = npdata[:,1]\n",
    "min_pitch = npdata[:,2]\n",
    "max_pitch = npdata[:,3]\n",
    "intensity_stdev = npdata[:,4]\n",
    "intensity = npdata[:,5]\n",
    "min_intensity = npdata[:,6]\n",
    "max_intensity = npdata[:,7]\n",
    "duration = npdata[:,8]"
   ]
  },
  {
   "cell_type": "markdown",
   "metadata": {},
   "source": [
    "<p>Mean Pitch <br>  Mean Intensity <br> Mean Duration </p>"
   ]
  },
  {
   "cell_type": "code",
   "execution_count": 18,
   "metadata": {},
   "outputs": [
    {
     "data": {
      "image/png": "[encoded data removed]",
      "text/plain": [
       "<Figure size 432x288 with 3 Axes>"
      ]
     },
     "metadata": {
      "needs_background": "light"
     },
     "output_type": "display_data"
    }
   ],
   "source": [
    "# fig, axs = plt.subplots(9, sharex=True)\n",
    "fig, axs = plt.subplots(3, sharex=True)\n",
    "\n",
    "for i in range(len(npdata)):\n",
    "    if nptarget[i] == 0:\n",
    "        axs[0].plot(i,pitch[i], color=\"red\", marker=\".\")\n",
    "        axs[1].plot(i,intensity[i], color=\"red\", marker=\".\")\n",
    "        axs[2].plot(i,duration[i], color=\"red\", marker=\".\")\n",
    "#        axs[3].plot(i,min_pitch[i], color=\"red\", marker=\".\")\n",
    "#        axs[4].plot(i,max_pitch[i], color=\"red\", marker=\".\")\n",
    "#        axs[5].plot(i,min_intensity[i], color=\"red\", marker=\".\")\n",
    "#        axs[6].plot(i,max_intensity[i], color=\"red\", marker=\".\")\n",
    "#        axs[7].plot(i,intensity_stdev[i], color=\"red\", marker=\".\")\n",
    "#        axs[8].plot(i,pitch_stdev[i], color=\"red\", marker=\".\")\n",
    "    elif nptarget[i] == 1:\n",
    "        axs[0].plot(i,pitch[i], color=\"blue\", marker=\".\")\n",
    "        axs[1].plot(i,intensity[i], color=\"blue\", marker=\".\")\n",
    "        axs[2].plot(i,duration[i], color=\"blue\", marker=\".\")\n",
    "#        axs[3].plot(i,min_pitch[i], color=\"blue\", marker=\".\")\n",
    "#        axs[4].plot(i,max_pitch[i], color=\"blue\", marker=\".\")\n",
    "#        axs[5].plot(i,min_intensity[i], color=\"blue\", marker=\".\")3        axs[6].plot(i,max_intensity[i], color=\"blue\", marker=\".\")\n",
    "#        axs[7].plot(i,intensity_stdev[i], color=\"blue\", marker=\".\")\n",
    "#        axs[8].plot(i,pitch_stdev[i], color=\"blue\", marker=\".\")\n",
    "    elif nptarget[i] == 2:\n",
    "        axs[0].plot(i,pitch[i], color= \"green\", marker=\".\")\n",
    "        axs[1].plot(i,intensity[i], color=\"green\", marker=\".\")\n",
    "        axs[2].plot(i,duration[i], color=\"green\", marker=\".\")\n",
    "#        axs[3].plot(i,min_pitch[i], color=\"green\", marker=\".\")\n",
    "#        axs[4].plot(i,max_pitch[i], color=\"green\", marker=\".\")\n",
    "#        axs[5].plot(i,min_intensity[i], color=\"green\", marker=\".\")\n",
    "#        axs[6].plot(i,max_intensity[i], color=\"green\", marker=\".\")\n",
    "#        axs[7].plot(i,intensity_stdev[i], color=\"green\", marker=\".\")\n",
    "#        axs[8].plot(i,pitch_stdev[i], color=\"green\", marker=\".\")\n",
    "    else:\n",
    "        axs[0].plot(i,pitch[i], color= \"yellow\", marker=\".\")\n",
    "        axs[1].plot(i,intensity[i], color=\"yellow\", marker=\".\")\n",
    "        axs[2].plot(i,duration[i], color=\"yellow\", marker=\".\")\n",
    "#        axs[3].plot(i,min_pitch[i], color=\"yellow\", marker=\".\")\n",
    "#        axs[4].plot(i,max_pitch[i], color=\"yellow\", marker=\".\")\n",
    "#        axs[5].plot(i,min_intensity[i], color=\"yellow\", marker=\".\")\n",
    "#        axs[6].plot(i,max_intensity[i], color=\"yellow\", marker=\".\")\n",
    "#        axs[7].plot(i,intensity_stdev[i], color=\"yellow\", marker=\".\")\n",
    "#        axs[8].plot(i,pitch_stdev[i], color=\"yellow\", marker=\".\")\n",
    "        \n",
    "\n",
    "axs[0].set_title(\"Pitch\")\n",
    "axs[1].set_title(\"Intensity\")\n",
    "axs[2].set_title(\"Duration\")\n",
    "#axs[3].set_title(\"Minimum Pitch\")\n",
    "#axs[4].set_title(\"Maximum Pitch\")\n",
    "#axs[5].set_title(\"Minimum Intensity\")\n",
    "#axs[6].set_title(\"Maximum Intensity\")\n",
    "#axs[7].set_title(\"Intensity Standard Deviation\")\n",
    "#axs[8].set_title(\"Pitch Standard Deviation\")\n",
    "\n",
    "axs[0].set_ylabel(\"Hz\")\n",
    "axs[1].set_ylabel(\"dB\")\n",
    "axs[2].set_ylabel(\"sec\")\n",
    "#axs[3].set_ylabel(\"Hz\")\n",
    "#axs[4].set_ylabel(\"Hz\")\n",
    "#axs[5].set_ylabel(\"dB\")\n",
    "#axs[6].set_ylabel(\"dB\")\n",
    "#axs[7].set_ylabel(\"dB\")\n",
    "#axs[8].set_ylabel(\"Hz\")\n",
    "\n",
    "fig.tight_layout(pad=3.0)\n",
    "\n",
    "plt.show()\n",
    "\n",
    "#red = greek \n",
    "#blue = spanish\n",
    "#green = english"
   ]
  },
  {
   "cell_type": "markdown",
   "metadata": {},
   "source": [
    "<p> Minimum Pitch <br> Maximum Pitch <br> Pitch Standard Deviation </p>"
   ]
  },
  {
   "cell_type": "code",
   "execution_count": 19,
   "metadata": {},
   "outputs": [
    {
     "data": {
      "image/png": "[encoded data removed]",
      "text/plain": [
       "<Figure size 432x288 with 3 Axes>"
      ]
     },
     "metadata": {
      "needs_background": "light"
     },
     "output_type": "display_data"
    }
   ],
   "source": [
    "fig, axs = plt.subplots(3, sharex=True)\n",
    "\n",
    "for i in range(len(npdata)):\n",
    "    if nptarget[i] == 0:\n",
    "        axs[0].plot(i,min_pitch[i], color=\"red\", marker=\".\")\n",
    "        axs[1].plot(i,max_pitch[i], color=\"red\", marker=\".\")\n",
    "        axs[2].plot(i,pitch_stdev[i], color=\"red\", marker=\".\")\n",
    "    elif nptarget[i] == 1:\n",
    "        axs[0].plot(i,min_pitch[i], color=\"blue\", marker=\".\")\n",
    "        axs[1].plot(i,max_pitch[i], color=\"blue\", marker=\".\")\n",
    "        axs[2].plot(i,pitch_stdev[i], color=\"blue\", marker=\".\")\n",
    "    elif nptarget[i] == 2:\n",
    "        axs[0].plot(i,min_pitch[i], color=\"green\", marker=\".\")\n",
    "        axs[1].plot(i,max_pitch[i], color=\"green\", marker=\".\")\n",
    "        axs[2].plot(i,pitch_stdev[i], color=\"green\", marker=\".\")\n",
    "    else:\n",
    "        axs[0].plot(i,min_pitch[i], color=\"yellow\", marker=\".\")\n",
    "        axs[1].plot(i,max_pitch[i], color=\"yellow\", marker=\".\")\n",
    "        axs[2].plot(i,pitch_stdev[i], color=\"yellow\", marker=\".\")\n",
    "        \n",
    "axs[0].set_title(\"Minimum Pitch\")\n",
    "axs[1].set_title(\"Maximum Pitch\")\n",
    "axs[2].set_title(\"Pitch Standard Deviation\")\n",
    "\n",
    "axs[0].set_ylabel(\"Hz\")\n",
    "axs[1].set_ylabel(\"Hz\")\n",
    "axs[2].set_ylabel(\"Hz\")\n",
    "\n",
    "fig.tight_layout(pad=3.0)\n",
    "\n",
    "plt.show()"
   ]
  },
  {
   "cell_type": "markdown",
   "metadata": {},
   "source": [
    "<p> Minimum Intensity <br> Maximum Intensity <br> Intensity Standard Deviation </p>"
   ]
  },
  {
   "cell_type": "code",
   "execution_count": 20,
   "metadata": {},
   "outputs": [
    {
     "data": {
      "image/png": "[encoded data removed]",
      "text/plain": [
       "<Figure size 432x288 with 3 Axes>"
      ]
     },
     "metadata": {
      "needs_background": "light"
     },
     "output_type": "display_data"
    }
   ],
   "source": [
    "fig, axs = plt.subplots(3, sharex=True)\n",
    "\n",
    "for i in range(len(npdata)):\n",
    "    if nptarget[i] == 0:\n",
    "        axs[0].plot(i,min_intensity[i], color=\"red\", marker=\".\")\n",
    "        axs[1].plot(i,max_intensity[i], color=\"red\", marker=\".\")\n",
    "        axs[2].plot(i,intensity_stdev[i], color=\"red\", marker=\".\")\n",
    "    elif nptarget[i] == 1:\n",
    "        axs[0].plot(i,min_intensity[i], color=\"blue\", marker=\".\")\n",
    "        axs[1].plot(i,max_intensity[i], color=\"blue\", marker=\".\")\n",
    "        axs[2].plot(i,intensity_stdev[i], color=\"blue\", marker=\".\")\n",
    "    elif nptarget[i] == 2:\n",
    "        axs[0].plot(i,min_intensity[i], color=\"green\", marker=\".\")\n",
    "        axs[1].plot(i,max_intensity[i], color=\"green\", marker=\".\")\n",
    "        axs[2].plot(i,intensity_stdev[i], color=\"green\", marker=\".\")\n",
    "    else:\n",
    "        axs[0].plot(i,min_intensity[i], color=\"yellow\", marker=\".\")\n",
    "        axs[1].plot(i,max_intensity[i], color=\"yellow\", marker=\".\")\n",
    "        axs[2].plot(i,intensity_stdev[i], color=\"yellow\", marker=\".\")\n",
    "        \n",
    "\n",
    "axs[0].set_title(\"Minimum Intensity\")\n",
    "axs[1].set_title(\"Maximum Intensity\")\n",
    "axs[2].set_title(\"Intensity Standard Deviation\")\n",
    "\n",
    "axs[0].set_ylabel(\"dB\")\n",
    "axs[1].set_ylabel(\"dB\")\n",
    "axs[2].set_ylabel(\"dB\")\n",
    "\n",
    "fig.tight_layout(pad=3.0)\n",
    "\n",
    "plt.show()"
   ]
  },
  {
   "cell_type": "markdown",
   "metadata": {},
   "source": [
    "Compiling said data to compatible formats and whatnot"
   ]
  },
  {
   "cell_type": "code",
   "execution_count": null,
   "metadata": {},
   "outputs": [],
   "source": [
    "#insert code here"
   ]
  },
  {
   "cell_type": "markdown",
   "metadata": {},
   "source": [
    "Feature Extraction and beyond..."
   ]
  }
 ],
 "metadata": {
  "kernelspec": {
   "display_name": "Python 3",
   "language": "python",
   "name": "python3"
  },
  "language_info": {
   "codemirror_mode": {
    "name": "ipython",
    "version": 3
   },
   "file_extension": ".py",
   "mimetype": "text/x-python",
   "name": "python",
   "nbconvert_exporter": "python",
   "pygments_lexer": "ipython3",
   "version": "3.8.3"
  }
 },
 "nbformat": 4,
 "nbformat_minor": 4
}
